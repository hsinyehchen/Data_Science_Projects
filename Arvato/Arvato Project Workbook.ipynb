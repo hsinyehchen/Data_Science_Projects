{
 "cells": [
  {
   "cell_type": "markdown",
   "metadata": {},
   "source": [
    "# Capstone Project: Create a Customer Segmentation Report for Arvato Financial Services\n",
    "\n",
    "In this project, you will analyze demographics data for customers of a mail-order sales company in Germany, comparing it against demographics information for the general population. You'll use unsupervised learning techniques to perform customer segmentation, identifying the parts of the population that best describe the core customer base of the company. Then, you'll apply what you've learned on a third dataset with demographics information for targets of a marketing campaign for the company, and use a model to predict which individuals are most likely to convert into becoming customers for the company. The data that you will use has been provided by our partners at Bertelsmann Arvato Analytics, and represents a real-life data science task.\n",
    "\n",
    "If you completed the first term of this program, you will be familiar with the first part of this project, from the unsupervised learning project. The versions of those two datasets used in this project will include many more features and has not been pre-cleaned. You are also free to choose whatever approach you'd like to analyzing the data rather than follow pre-determined steps. In your work on this project, make sure that you carefully document your steps and decisions, since your main deliverable for this project will be a blog post reporting your findings."
   ]
  },
  {
   "cell_type": "code",
   "execution_count": 1,
   "metadata": {},
   "outputs": [],
   "source": [
    "# import libraries here; add more as necessary\n",
    "import numpy as np\n",
    "import pandas as pd\n",
    "import matplotlib.pyplot as plt\n",
    "import seaborn as sns\n",
    "\n",
    "# magic word for producing visualizations in notebook\n",
    "%matplotlib inline"
   ]
  },
  {
   "cell_type": "markdown",
   "metadata": {},
   "source": [
    "## Part 0: Get to Know the Data\n",
    "\n",
    "There are four data files associated with this project:\n",
    "\n",
    "- `Udacity_AZDIAS_052018.csv`: Demographics data for the general population of Germany; 891 211 persons (rows) x 366 features (columns).\n",
    "- `Udacity_CUSTOMERS_052018.csv`: Demographics data for customers of a mail-order company; 191 652 persons (rows) x 369 features (columns).\n",
    "- `Udacity_MAILOUT_052018_TRAIN.csv`: Demographics data for individuals who were targets of a marketing campaign; 42 982 persons (rows) x 367 (columns).\n",
    "- `Udacity_MAILOUT_052018_TEST.csv`: Demographics data for individuals who were targets of a marketing campaign; 42 833 persons (rows) x 366 (columns).\n",
    "\n",
    "Each row of the demographics files represents a single person, but also includes information outside of individuals, including information about their household, building, and neighborhood. Use the information from the first two files to figure out how customers (\"CUSTOMERS\") are similar to or differ from the general population at large (\"AZDIAS\"), then use your analysis to make predictions on the other two files (\"MAILOUT\"), predicting which recipients are most likely to become a customer for the mail-order company.\n",
    "\n",
    "The \"CUSTOMERS\" file contains three extra columns ('CUSTOMER_GROUP', 'ONLINE_PURCHASE', and 'PRODUCT_GROUP'), which provide broad information about the customers depicted in the file. The original \"MAILOUT\" file included one additional column, \"RESPONSE\", which indicated whether or not each recipient became a customer of the company. For the \"TRAIN\" subset, this column has been retained, but in the \"TEST\" subset it has been removed; it is against that withheld column that your final predictions will be assessed in the Kaggle competition.\n",
    "\n",
    "Otherwise, all of the remaining columns are the same between the three data files. For more information about the columns depicted in the files, you can refer to two Excel spreadsheets provided in the workspace. [One of them](./DIAS Information Levels - Attributes 2017.xlsx) is a top-level list of attributes and descriptions, organized by informational category. [The other](./DIAS Attributes - Values 2017.xlsx) is a detailed mapping of data values for each feature in alphabetical order.\n",
    "\n",
    "In the below cell, we've provided some initial code to load in the first two datasets. Note for all of the `.csv` data files in this project that they're semicolon (`;`) delimited, so an additional argument in the [`read_csv()`](https://pandas.pydata.org/pandas-docs/stable/generated/pandas.read_csv.html) call has been included to read in the data properly. Also, considering the size of the datasets, it may take some time for them to load completely.\n",
    "\n",
    "You'll notice when the data is loaded in that a warning message will immediately pop up. Before you really start digging into the modeling and analysis, you're going to need to perform some cleaning. Take some time to browse the structure of the data and look over the informational spreadsheets to understand the data values. Make some decisions on which features to keep, which features to drop, and if any revisions need to be made on data formats. It'll be a good idea to create a function with pre-processing steps, since you'll need to clean all of the datasets before you work with them."
   ]
  },
  {
   "cell_type": "code",
   "execution_count": null,
   "metadata": {},
   "outputs": [
    {
     "name": "stderr",
     "output_type": "stream",
     "text": [
      "/anaconda2/lib/python2.7/site-packages/IPython/core/interactiveshell.py:2714: DtypeWarning: Columns (18,19) have mixed types. Specify dtype option on import or set low_memory=False.\n",
      "  interactivity=interactivity, compiler=compiler, result=result)\n"
     ]
    }
   ],
   "source": [
    "# load in the data\n",
    "azdias = pd.read_csv('./Udacity_AZDIAS_052018.csv', sep=';')\n",
    "customers = pd.read_csv('./Udacity_CUSTOMERS_052018.csv', sep=';')\n"
   ]
  },
  {
   "cell_type": "code",
   "execution_count": null,
   "metadata": {},
   "outputs": [],
   "source": [
    "# Be sure to add in a lot more cells (both markdown and code) to document your\n",
    "# approach and findings!\n",
    "#azdias['CAMEO_INTL_2015']"
   ]
  },
  {
   "cell_type": "markdown",
   "metadata": {},
   "source": [
    "### Data Cleaning\n",
    "#### 1. Data Cleaning - convert unknown values to `NaN`\n",
    "The first step is to look at the features and the range of possible of each range. The description of each column can be found in `DIAS Information Levels - Attributes 2017.xlsx` and `DIAS Attributes - Values 2017.xlsx`. The values of each feature contains different ranges, and some represents \"unknown\". The first step is to manually convert these \"unknowns\" to NaN.\n"
   ]
  },
  {
   "cell_type": "markdown",
   "metadata": {},
   "source": [
    "##### a) read features from attribute file"
   ]
  },
  {
   "cell_type": "code",
   "execution_count": null,
   "metadata": {},
   "outputs": [],
   "source": [
    "ATTRIBUTE_FILE=\"DIAS Attributes - Values 2017.xlsx\"\n",
    "\n",
    "df_Levels_Attributes = pd.read_excel(ATTRIBUTE_FILE)\n",
    "#print(df_Levels_Attributes.head())\n",
    "for i in range(len(df_Levels_Attributes[\"Attribute\"])):\n",
    "    if pd.isna(df_Levels_Attributes.iloc[i][\"Attribute\"]):\n",
    "        df_Levels_Attributes.at[i,\"Attribute\"] = attr_name\n",
    "    else:\n",
    "        attr_name = df_Levels_Attributes.iloc[i][\"Attribute\"]\n",
    "\n",
    "COLUMN_UNKNOWN_VALUE = dict()\n",
    "for index, row in df_Levels_Attributes[df_Levels_Attributes[\"Meaning\"] == \"unknown\"].iterrows():\n",
    "    COLUMN_UNKNOWN_VALUE[row[\"Attribute\"]] = [int(n) for n in str(row[\"Value\"]).split(\",\")]\n",
    "#print(sorted([key for key in azdias.columns]))\n",
    "\n",
    "INTEGER_LABELS_COLUMN = {\"ANZ_HAUSHALTE_AKTIV\", \"ANZ_HH_TITEL\", \"ANZ_PERSONEN\", \n",
    "                         \"ANZ_TITEL\", \"GEBURTSJAHR\", \"KBA13_ANZAHL_PKW\", \"MIN_GEBAEUDEJAHR\"}\n",
    "COLUMN_LABELS = dict()\n",
    "for index, row in df_Levels_Attributes[df_Levels_Attributes[\"Meaning\"] != \"unknown\"].iterrows():\n",
    "    if row[\"Attribute\"] not in COLUMN_LABELS:\n",
    "        COLUMN_LABELS[row[\"Attribute\"]] = []\n",
    "    if row[\"Attribute\"] in INTEGER_LABELS_COLUMN:\n",
    "        continue\n",
    "    #print(row[\"Attribute\"], row[\"Value\"])\n",
    "    COLUMN_LABELS[row[\"Attribute\"]] += str(row[\"Value\"]).split(\",\")\n",
    "#COLUMN_LABELS[\"CAMEO_DEU_2015\"]\n",
    "#azdias[azdias[\"CAMEO_DEU_2015\"] == \"XX\"][\"CAMEO_DEU_2015\"]\n",
    "#azdias.loc[2511,\"CAMEO_DEU_2015\"] in COLUMN_LABELS[\"CAMEO_DEU_2015\"]\n",
    "#COLUMN_UNKNOWN_VALUE[\"CAMEO_DEU_2015\"]\n",
    "#set(COLUMN_LABELS.keys()) - set(azdias.columns)\n",
    "#(set(azdias.columns) - set(COLUMN_LABELS.keys()))\n",
    "print(set(customers.columns) - set(azdias.columns))"
   ]
  },
  {
   "cell_type": "markdown",
   "metadata": {},
   "source": [
    "##### b) Drop undocumented features\n",
    "Many features in the azdias and customers dataframe are not explained in the attribute file. These columns are dropped."
   ]
  },
  {
   "cell_type": "code",
   "execution_count": null,
   "metadata": {},
   "outputs": [],
   "source": [
    "UNDOCUMENTED_COLUMN = set(azdias.columns) - set(COLUMN_LABELS.keys())\n",
    "print(UNDOCUMENTED_COLUMN)\n",
    "\n",
    "azdias = azdias.drop(columns={\"LNR\"})\n",
    "customers = customers.drop(columns=\"LNR\")\n",
    "#print(customers[\"ONLINE_PURCHASE\"])"
   ]
  },
  {
   "cell_type": "markdown",
   "metadata": {},
   "source": [
    "##### c) Convert values that represents \"unknown\" to `NaN`\n",
    "In some columns, the value of `0` or `-1` actually means unknown,or some values are out-of-range. These data are replaced with `NaN`."
   ]
  },
  {
   "cell_type": "code",
   "execution_count": null,
   "metadata": {},
   "outputs": [],
   "source": [
    "def fill_unknown_values(df):\n",
    "    MISSING_COLUMN = set(COLUMN_LABELS.keys()) - set(df.columns)\n",
    "    for column_name in COLUMN_LABELS:\n",
    "        if column_name in MISSING_COLUMN:\n",
    "            continue\n",
    "        if column_name in INTEGER_LABELS_COLUMN:\n",
    "            continue\n",
    "        nan_mask = ~df[column_name].isin(COLUMN_LABELS[column_name])\n",
    "        if column_name in COLUMN_UNKNOWN_VALUE:\n",
    "            nan_mask |= df[column_name].isin(COLUMN_UNKNOWN_VALUE[column_name])\n",
    "        df.loc[nan_mask, column_name] = np.nan\n",
    "\n",
    "    # special handling\n",
    "    df.loc[df[\"GEBURTSJAHR\"] == 0, \"GEBURTSJAHR\"] = np.nan\n",
    "\n",
    "#print(azdias.head())    \n",
    "fill_unknown_values(azdias)\n",
    "#print(azdias.head())\n",
    "\n",
    "#print(customers.head)    \n",
    "fill_unknown_values(customers)\n",
    "#print(customers.head)"
   ]
  },
  {
   "cell_type": "markdown",
   "metadata": {},
   "source": [
    "##### d) Handle numerical strings"
   ]
  },
  {
   "cell_type": "code",
   "execution_count": null,
   "metadata": {},
   "outputs": [],
   "source": [
    "def convert_str_to_int(df, column):\n",
    "    df[column] = pd.to_numeric(df[column], errors='coerce')\n",
    "\n",
    "convert_str_to_int(azdias, \"CAMEO_DEUG_2015\")\n",
    "convert_str_to_int(azdias, \"CAMEO_INTL_2015\")\n",
    "convert_str_to_int(customers, \"CAMEO_DEUG_2015\")\n",
    "convert_str_to_int(customers, \"CAMEO_INTL_2015\")\n",
    "\n",
    "\n",
    "azdias['EINGEFUEGT_AM'] = pd.to_datetime(azdias['EINGEFUEGT_AM']).sub(pd.Timestamp('1900-01-01')).dt.days\n",
    "customers['EINGEFUEGT_AM'] = pd.to_datetime(customers['EINGEFUEGT_AM']).sub(pd.Timestamp('1900-01-01')).dt.days"
   ]
  },
  {
   "cell_type": "markdown",
   "metadata": {},
   "source": [
    "##### e) Check the percetage of NaN values in each column\n",
    "The majority of NaN is less than 0.15% and at most 0.40% of total features in both of dataset, so it would not have significant impact on the results. "
   ]
  },
  {
   "cell_type": "code",
   "execution_count": null,
   "metadata": {},
   "outputs": [],
   "source": [
    "azdias_nan_counter = {column_name: np.sum(azdias[column_name].isna()) for column_name in azdias.columns}\n",
    "customers_nan_counter = {column_name: np.sum(customers[column_name].isna()) for column_name in customers.columns}\n",
    "#print([c for c in customers_nan_counter if customers_nan_counter[c] > 0])\n",
    "azdias_na_percent = [100.0*v/float(azdias.size) for v in azdias_nan_counter.values()]\n",
    "customers_na_percent = [100.0*v/float(customers.size) for v in customers_nan_counter.values()]\n",
    "\n",
    "plt.hist([azdias_na_percent, customers_na_percent], bins = 25, label=[\"azdias nan\", \"customers nan\"])\n",
    "\n",
    "# Plot formatting\n",
    "plt.legend()\n",
    "plt.xlabel('Percentage of NaN in column (%)')\n",
    "plt.ylabel('Number of columns')\n",
    "plt.title('Histogram')"
   ]
  },
  {
   "cell_type": "markdown",
   "metadata": {},
   "source": [
    "#### Data Cleaning - Handling catagorized values"
   ]
  },
  {
   "cell_type": "code",
   "execution_count": null,
   "metadata": {},
   "outputs": [],
   "source": [
    "def convert_biclass_to_int(df, column):\n",
    "    nan_mask = df[column].notna()\n",
    "    df.loc[nan_mask, column] = df[column][nan_mask].astype('category').cat.codes\n",
    "\n",
    "convert_biclass_to_int(azdias, \"OST_WEST_KZ\")\n",
    "convert_biclass_to_int(customers, \"OST_WEST_KZ\")\n",
    "print(azdias.groupby(\"OST_WEST_KZ\").groups.keys())\n",
    "print(customers.groupby(\"OST_WEST_KZ\").groups.keys())"
   ]
  },
  {
   "cell_type": "code",
   "execution_count": null,
   "metadata": {},
   "outputs": [],
   "source": [
    "def convert_categories_to_onehot(df, column):\n",
    "    nan_mask = df[column].notna()\n",
    "    df.loc[nan_mask, column] = df[column][nan_mask].astype('category')\n",
    "    onehot = pd.get_dummies(df[column], prefix=column, dummy_na=True)\n",
    "    #print(df.columns)\n",
    "    df = pd.concat([df, onehot], axis=1)\n",
    "    df = df.drop(columns=[column])\n",
    "    #print(df.columns)\n",
    "    return df\n",
    "#pd.get_dummies(azdias[\"CAMEO_DEU_2015\"], prefix=\"CAMEO_DEU_2015\", dummy_na=True)\n",
    "azdias = convert_categories_to_onehot(azdias, \"CAMEO_DEU_2015\")\n",
    "customers = convert_categories_to_onehot(customers, \"CAMEO_DEU_2015\")\n",
    "azdias = convert_categories_to_onehot(azdias, \"D19_LETZTER_KAUF_BRANCHE\")\n",
    "customers = convert_categories_to_onehot(customers, \"D19_LETZTER_KAUF_BRANCHE\")"
   ]
  },
  {
   "cell_type": "code",
   "execution_count": null,
   "metadata": {},
   "outputs": [],
   "source": [
    "\n",
    "def print_groups(df):\n",
    "    for column_name in df.columns:\n",
    "        keys = df.groupby(column_name).groups.keys()\n",
    "        if set(keys) <= set(range(25)):\n",
    "            continue\n",
    "        print(\"***** {} *****\".format(column_name))\n",
    "        print(keys)\n",
    "\n",
    "\n",
    "print_groups(azdias)\n",
    "print_groups(customers)\n",
    "#customers.groupby(\"ONLINE_PURCHASE\").groups.keys()"
   ]
  },
  {
   "cell_type": "markdown",
   "metadata": {},
   "source": [
    "#### Data Cleaning - Use mean instead of `Nan`"
   ]
  },
  {
   "cell_type": "code",
   "execution_count": null,
   "metadata": {},
   "outputs": [],
   "source": [
    "columns = list(customers.columns)\n",
    "columns.remove(\"CUSTOMER_GROUP\")\n",
    "columns.remove(\"ONLINE_PURCHASE\")\n",
    "columns.remove(\"PRODUCT_GROUP\")\n",
    "\n",
    "for c in columns:\n",
    "    customers[c].fillna(customers[c].mean(), inplace=True)\n",
    "    azdias[c].fillna(azdias[c].mean(), inplace=True)\n",
    "print([col for col in customers.columns if np.sum(customers[col].isna()) > 0])\n",
    "print([col for col in azdias.columns if np.sum(azdias[col].isna()) > 0])\n"
   ]
  },
  {
   "cell_type": "code",
   "execution_count": null,
   "metadata": {},
   "outputs": [],
   "source": [
    "azdias.describe()"
   ]
  },
  {
   "cell_type": "markdown",
   "metadata": {},
   "source": [
    "## Part 1: Customer Segmentation Report\n",
    "\n",
    "The main bulk of your analysis will come in this part of the project. Here, you should use unsupervised learning techniques to describe the relationship between the demographics of the company's existing customers and the general population of Germany. By the end of this part, you should be able to describe parts of the general population that are more likely to be part of the mail-order company's main customer base, and which parts of the general population are less so."
   ]
  },
  {
   "cell_type": "markdown",
   "metadata": {},
   "source": [
    "### 1. Normalize data"
   ]
  },
  {
   "cell_type": "code",
   "execution_count": null,
   "metadata": {},
   "outputs": [],
   "source": [
    "#mean_azdias = azdias.mean()\n",
    "#std_azdias = azdias.std()\n",
    "#normalized_azdias = (azdias - mean_azdias)/std_azdias\n",
    "max_azdias = azdias.max()\n",
    "min_azdias = azdias.min()\n",
    "normalized_azdias = (azdias - min_azdias)/(max_azdias - min_azdias)\n",
    "normalized_azdias.describe()\n"
   ]
  },
  {
   "cell_type": "markdown",
   "metadata": {},
   "source": [
    "### 2. PCA"
   ]
  },
  {
   "cell_type": "code",
   "execution_count": null,
   "metadata": {},
   "outputs": [],
   "source": [
    "from sklearn.decomposition import PCA\n",
    "pca = PCA()\n",
    "azdias_rotated = pca.fit_transform(normalized_azdias)\n",
    "explained_variance_by_k = pca.explained_variance_ratio_.cumsum()\n",
    "plt.plot(range(1,len(explained_variance_by_k)+1),explained_variance_by_k,marker=\"*\")\n",
    "plt.xlabel(\"Num. of Components\")\n",
    "plt.ylabel(\"Cumulative Power Ratio\")"
   ]
  },
  {
   "cell_type": "markdown",
   "metadata": {},
   "source": [
    "The first 150 componants accommodate 90% of energy. However, there is no significant transition in the energy. So we can use the entire feature sets for now."
   ]
  },
  {
   "cell_type": "markdown",
   "metadata": {},
   "source": [
    "### 3. K-Means Clustering"
   ]
  },
  {
   "cell_type": "markdown",
   "metadata": {},
   "source": [
    "#### The elbow is around 260 clusters."
   ]
  },
  {
   "cell_type": "code",
   "execution_count": null,
   "metadata": {},
   "outputs": [],
   "source": [
    "from sklearn.cluster import KMeans, MiniBatchKMeans\n",
    "from sklearn.metrics import silhouette_score\n",
    "\n",
    "# choose best K (i.e., number of clusters)\n",
    "inertias = []\n",
    "silhouettes = []\n",
    "\n",
    "print(normalized_azdias.shape)\n",
    "\n",
    "inertias_mini = []\n",
    "silhouettes_mini = []\n",
    "ks = range(20,401,10)\n",
    "for k in ks:\n",
    "    print(\"**** {} ****\".format(k))\n",
    "    kmeans = MiniBatchKMeans(n_clusters=k, verbose=0)\n",
    "    kmeans.fit(normalized_azdias.values)\n",
    "    #print(\"**** 2 ****\")\n",
    "    inertias_mini.append(kmeans.inertia_)\n",
    "    #print(\"**** 3 ****\")\n",
    "    #silhouettes_mini.append(silhouette_score(azdias.values, kmeans.predict(azdias.values)))\n",
    "    #print(\"**** 4 ****\")"
   ]
  },
  {
   "cell_type": "code",
   "execution_count": null,
   "metadata": {},
   "outputs": [],
   "source": [
    "fig = plt.figure(figsize=(20,5))\n",
    "\n",
    "fig.add_subplot(1,2,1)\n",
    "plt.plot(ks,inertias_mini,marker='x')# want to use elbow method to find best k\n",
    "\n",
    "#fig.add_subplot(1,2,2)\n",
    "#plt.plot(ks,silhouettes_mini,marker='o')# the higher the better\n",
    "plt.xlabel(\"Num. of Cluster\")\n",
    "plt.ylabel(\"Inertia\")"
   ]
  },
  {
   "cell_type": "code",
   "execution_count": null,
   "metadata": {},
   "outputs": [],
   "source": []
  },
  {
   "cell_type": "markdown",
   "metadata": {},
   "source": [
    "#### The elbow is around 260, the kmeans is re-trained and predicts."
   ]
  },
  {
   "cell_type": "code",
   "execution_count": null,
   "metadata": {
    "scrolled": true
   },
   "outputs": [],
   "source": [
    "kmeans = MiniBatchKMeans(n_clusters=260, verbose=1)\n",
    "kmeans.fit(normalized_azdias.values)"
   ]
  },
  {
   "cell_type": "code",
   "execution_count": null,
   "metadata": {},
   "outputs": [],
   "source": [
    "normalized_customers = (customers[azdias.columns] - min_azdias)/(max_azdias - min_azdias)\n",
    "print([k for k in normalized_customers.columns if np.sum(normalized_customers[k].isna()) > 0])\n",
    "pred = kmeans.predict(normalized_customers[list(azdias.columns)].values)\n",
    "pred = pd.DataFrame({'cluster': pred})\n",
    "print(pred)\n",
    "#customers_pred = pd.concat([customers, pred])\n",
    "#print(set(customers.columns) - set(azdias.columns))\n",
    "#print(customers.groupby('CUSTOMER_GROUP').groups.keys())\n",
    "#print(customers.groupby('PRODUCT_GROUP').groups.keys())\n",
    "#print(customers.groupby('ONLINE_PURCHASE').groups.keys())\n",
    "cluster_group = pred.groupby('cluster').groups\n",
    "print(cluster_group.keys())"
   ]
  },
  {
   "cell_type": "markdown",
   "metadata": {},
   "source": [
    "#### Based on the clustering results, the top 1 cluster is cluster-51, which accounts for 12.25% of entire customer base."
   ]
  },
  {
   "cell_type": "code",
   "execution_count": null,
   "metadata": {},
   "outputs": [],
   "source": [
    "import seaborn as sns\n",
    "print(pred.shape)\n",
    "sorted_cluster = sorted([(len(cluster_group[k]), k, len(cluster_group[k])/float(pred.shape[0])) for k in cluster_group], reverse=True)\n",
    "print(sorted_cluster[:10])\n",
    "print(\"\\n\".join([\"{}\\t{}\\t{:.3f}\".format(v[1],v[0],100.0*v[2]) for v in sorted_cluster[:10]]))\n",
    "print(sum([v[2] for v in sorted_cluster[:10]]))\n",
    "#print(set(list(kmeans.labels_)))\n",
    "centroid_id = sorted_cluster[0][1]\n",
    "print(centroid_id)\n",
    "\n",
    "#print(mean_azdias)\n",
    "#print(std_azdias)\n",
    "\n",
    "def display_component(centroid, max_azdias, min_azdias, n_weights = 25):\n",
    "    \n",
    "    #centroid = (centroid + mean_azdias)*std_azdias\n",
    "    #print(azdias)\n",
    "    comp = pd.DataFrame(list(zip(centroid, list(azdias.columns))), columns=['scaled_weights', 'features'])\n",
    "    comp['abs_weights'] = comp['scaled_weights'].apply(lambda x: np.abs(x))\n",
    "    #print(comp)\n",
    "    comp['original_weights'] = comp.apply(lambda row: (row.scaled_weights*(max_azdias[row.features] - min_azdias[row.features]) + min_azdias[row.features]), axis = 1) \n",
    "    sorted_weight_data = comp.sort_values('abs_weights', ascending=False).head(n_weights)\n",
    "    #print(sorted_weight_data)\n",
    "    fig = plt.figure(figsize=(15,20))\n",
    "    sns.set(style=\"whitegrid\")\n",
    "#plt.plot(ks,inertias_mini,marker='x')# want to use elbow method to find best k\n",
    "    ax=fig.add_subplot(2,1,1)\n",
    "    ax=sns.barplot(data=sorted_weight_data, \n",
    "                   x=\"scaled_weights\", \n",
    "                   y=\"features\", \n",
    "                   palette=\"Blues_d\")\n",
    "    ax.set_title(\"Cluster centroid\")\n",
    "\n",
    "    ax=fig.add_subplot(2,1,2)\n",
    "    ax=sns.barplot(data=sorted_weight_data, \n",
    "                   x=\"original_weights\", \n",
    "                   y=\"features\", \n",
    "                   palette=\"Blues_d\")\n",
    "    ax.set_title(\"Cluster centroid\")\n",
    "    plt.show()\n",
    "display_component(kmeans.cluster_centers_[centroid_id], max_azdias, min_azdias)"
   ]
  },
  {
   "cell_type": "code",
   "execution_count": null,
   "metadata": {},
   "outputs": [],
   "source": [
    "def print_component(centroid, max_azdias, min_azdias, n_weights = 25):\n",
    "    comp = pd.DataFrame(list(zip(centroid, list(azdias.columns))), columns=['scaled_weights', 'features'])\n",
    "    comp['abs_weights'] = comp['scaled_weights'].apply(lambda x: np.abs(x))\n",
    "    comp['original_weights'] = comp.apply(lambda row: (row.scaled_weights*(max_azdias[row.features] - min_azdias[row.features]) + min_azdias[row.features]), axis = 1) \n",
    "    sorted_weight_data = comp.sort_values('abs_weights', ascending=False).head(n_weights)\n",
    "    #print(sorted_weight_data)"
   ]
  },
  {
   "cell_type": "markdown",
   "metadata": {},
   "source": [
    "## Part 2: Supervised Learning Model\n",
    "\n",
    "Now that you've found which parts of the population are more likely to be customers of the mail-order company, it's time to build a prediction model. Each of the rows in the \"MAILOUT\" data files represents an individual that was targeted for a mailout campaign. Ideally, we should be able to use the demographic information from each individual to decide whether or not it will be worth it to include that person in the campaign.\n",
    "\n",
    "The \"MAILOUT\" data has been split into two approximately equal parts, each with almost 43 000 data rows. In this part, you can verify your model with the \"TRAIN\" partition, which includes a column, \"RESPONSE\", that states whether or not a person became a customer of the company following the campaign. In the next part, you'll need to create predictions on the \"TEST\" partition, where the \"RESPONSE\" column has been withheld."
   ]
  },
  {
   "cell_type": "code",
   "execution_count": null,
   "metadata": {},
   "outputs": [],
   "source": [
    "mailout_train = pd.read_csv('Udacity_MAILOUT_052018_TRAIN.csv', sep=';')\n"
   ]
  },
  {
   "cell_type": "code",
   "execution_count": null,
   "metadata": {},
   "outputs": [],
   "source": [
    "fill_unknown_values(mailout_train)\n",
    "\n",
    "# handle string\n",
    "convert_str_to_int(mailout_train, \"CAMEO_DEUG_2015\")\n",
    "convert_str_to_int(mailout_train, \"CAMEO_INTL_2015\")\n",
    "\n",
    "convert_biclass_to_int(mailout_train, \"OST_WEST_KZ\")\n",
    "try:\n",
    "    mailout_train = convert_categories_to_onehot(mailout_train, \"CAMEO_DEU_2015\")\n",
    "    mailout_train = convert_categories_to_onehot(mailout_train, \"D19_LETZTER_KAUF_BRANCHE\")\n",
    "except Exception as e:\n",
    "    print(e)\n",
    "\n",
    "# handle time stamps\n",
    "mailout_train['EINGEFUEGT_AM'] = pd.to_datetime(mailout_train['EINGEFUEGT_AM']).sub(pd.Timestamp('1900-01-01')).dt.days\n",
    "\n",
    "for column_name in mailout_train.columns:\n",
    "    \n",
    "    keys = mailout_train.groupby(column_name).groups.keys() \n",
    "    if set(keys) <= set(range(50)):\n",
    "        continue\n",
    "    print(column_name)\n",
    "\n",
    "    print(keys)"
   ]
  },
  {
   "cell_type": "code",
   "execution_count": null,
   "metadata": {},
   "outputs": [],
   "source": [
    "for c in mailout_train.columns:\n",
    "    mailout_train[c].fillna(mailout_train[c].mean(), inplace=True)\n",
    "print([col for col in mailout_train.columns if np.sum(mailout_train[col].isna()) > 0])\n",
    "\n",
    "mailout_train.to_pickle(\"mailout_train.pkl\")"
   ]
  },
  {
   "cell_type": "code",
   "execution_count": null,
   "metadata": {},
   "outputs": [],
   "source": [
    "mailout_train = pd.read_pickle(\"mailout_train.pkl\")\n",
    "\n",
    "max_mailout_train = mailout_train.max()\n",
    "min_mailout_train = mailout_train.min()\n",
    "normalized_mailout_train = (mailout_train - min_mailout_train)/(max_mailout_train - min_mailout_train)\n",
    "normalized_mailout_train.describe()"
   ]
  },
  {
   "cell_type": "code",
   "execution_count": null,
   "metadata": {},
   "outputs": [],
   "source": [
    "azdias_rotated = pca.fit_transform(normalized_mailout_train)\n",
    "explained_variance_by_k = pca.explained_variance_ratio_.cumsum()\n",
    "plt.plot(range(1,len(explained_variance_by_k)+1),explained_variance_by_k,marker=\"*\")\n",
    "plt.xlabel(\"Num. of Components\")\n",
    "plt.ylabel(\"Cumulative Power Ratio\")"
   ]
  },
  {
   "cell_type": "code",
   "execution_count": null,
   "metadata": {},
   "outputs": [],
   "source": [
    "from sklearn.cross_validation import  train_test_split\n",
    "import os\n",
    "os.environ['KMP_DUPLICATE_LIB_OK']='True'\n",
    "import xgboost as xgb\n",
    "from xgboost import XGBClassifier\n",
    "\n",
    "seed = 999\n",
    "X = normalized_mailout_train.loc[:,normalized_mailout_train.columns != 'RESPONSE']\n",
    "y = normalized_mailout_train[\"RESPONSE\"]\n",
    "\n",
    "# split into training dataset and test dataset\n",
    "Xtrain, Xtest, ytrain, ytest = train_test_split(X, y, test_size=0.3, random_state=seed)\n",
    "train_matrix = xgb.DMatrix(Xtrain, ytrain)\n",
    "test_matrix = xgb.DMatrix(Xtest)"
   ]
  },
  {
   "cell_type": "code",
   "execution_count": null,
   "metadata": {},
   "outputs": [],
   "source": [
    "params = {}\n",
    "#params['silent'] = 1\n",
    "params['objective'] = 'binary:logistic'  # output probabilities\n",
    "params['eval_metric'] = 'auc'\n",
    "params[\"num_rounds\"] = 300\n",
    "params[\"early_stopping_rounds\"] = 30\n",
    "# params['min_child_weight'] = 2\n",
    "params['max_depth'] = 6\n",
    "params['eta'] = 0.1\n",
    "params[\"subsample\"] = 0.8\n",
    "params[\"colsample_bytree\"] = 0.8\n",
    "\n",
    "cv_results = xgb.cv(params, train_matrix,\n",
    "                    num_boost_round = params[\"num_rounds\"],\n",
    "                    nfold = params.get('nfold',5),\n",
    "                    metrics = params['eval_metric'],\n",
    "                    early_stopping_rounds = params[\"early_stopping_rounds\"],\n",
    "                    verbose_eval = True,\n",
    "                    seed = seed)"
   ]
  },
  {
   "cell_type": "code",
   "execution_count": null,
   "metadata": {},
   "outputs": [],
   "source": [
    "cv_results"
   ]
  },
  {
   "cell_type": "code",
   "execution_count": null,
   "metadata": {},
   "outputs": [],
   "source": [
    "n_best_trees = cv_results.shape[0]\n",
    "n_best_trees"
   ]
  },
  {
   "cell_type": "code",
   "execution_count": null,
   "metadata": {},
   "outputs": [],
   "source": [
    "watchlist = [(train_matrix, 'train')]\n",
    "gbt = xgb.train(params, train_matrix, n_best_trees,watchlist)"
   ]
  },
  {
   "cell_type": "code",
   "execution_count": null,
   "metadata": {},
   "outputs": [],
   "source": [
    "from sklearn.metrics import roc_curve, auc\n",
    "def plot_validation_roc():\n",
    "    Xtrain_only,Xvalid,ytrain_only,yvalid = train_test_split(Xtrain,ytrain,test_size=0.3,random_state=seed)\n",
    "    print(Xvalid.shape)\n",
    "    #onlytrain_matrix = xgb.DMatrix(Xtrain_only,ytrain_only)\n",
    "    valid_matrix = xgb.DMatrix(Xvalid)\n",
    "\n",
    "    temp_gbt = gbt#xgb.train(params, onlytrain_matrix, n_best_trees,[(onlytrain_matrix,'train_only'),(valid_matrix,'validate')])\n",
    "    yvalid_proba_pred = gbt.predict(valid_matrix,ntree_limit=n_best_trees)\n",
    "    print(len(yvalid_proba_pred))\n",
    "    fpr,tpr,thresholds = roc_curve(yvalid,yvalid_proba_pred)\n",
    "    print(\"auc = {}\".format(auc(fpr,tpr)))\n",
    "    return pd.DataFrame({'FPR':fpr,'TPR':tpr,'Threshold':thresholds})\n",
    "\n",
    "roc = plot_validation_roc()\n",
    "plt.figure(figsize=(10,5))\n",
    "plt.plot(roc.FPR,roc.TPR,marker='h')\n",
    "plt.xlabel(\"FPR\")\n",
    "plt.ylabel(\"TPR\")\n"
   ]
  },
  {
   "cell_type": "code",
   "execution_count": null,
   "metadata": {},
   "outputs": [],
   "source": []
  },
  {
   "cell_type": "markdown",
   "metadata": {},
   "source": [
    "## Part 3: Kaggle Competition\n",
    "\n",
    "Now that you've created a model to predict which individuals are most likely to respond to a mailout campaign, it's time to test that model in competition through Kaggle. If you click on the link [here](http://www.kaggle.com/t/21e6d45d4c574c7fa2d868f0e8c83140), you'll be taken to the competition page where, if you have a Kaggle account, you can enter. If you're one of the top performers, you may have the chance to be contacted by a hiring manager from Arvato or Bertelsmann for an interview!\n",
    "\n",
    "Your entry to the competition should be a CSV file with two columns. The first column should be a copy of \"LNR\", which acts as an ID number for each individual in the \"TEST\" partition. The second column, \"RESPONSE\", should be some measure of how likely each individual became a customer – this might not be a straightforward probability. As you should have found in Part 2, there is a large output class imbalance, where most individuals did not respond to the mailout. Thus, predicting individual classes and using accuracy does not seem to be an appropriate performance evaluation method. Instead, the competition will be using AUC to evaluate performance. The exact values of the \"RESPONSE\" column do not matter as much: only that the higher values try to capture as many of the actual customers as possible, early in the ROC curve sweep."
   ]
  },
  {
   "cell_type": "code",
   "execution_count": null,
   "metadata": {},
   "outputs": [],
   "source": [
    "mailout_test = pd.read_csv('Udacity_MAILOUT_052018_TEST.csv', sep=';')"
   ]
  },
  {
   "cell_type": "code",
   "execution_count": null,
   "metadata": {},
   "outputs": [],
   "source": [
    "fill_unknown_values(mailout_test)\n",
    "\n",
    "# handle string\n",
    "convert_str_to_int(mailout_test, \"CAMEO_DEUG_2015\")\n",
    "convert_str_to_int(mailout_test, \"CAMEO_INTL_2015\")\n",
    "\n",
    "convert_biclass_to_int(mailout_test, \"OST_WEST_KZ\")\n",
    "\n",
    "mailout_test = convert_categories_to_onehot(mailout_test, \"CAMEO_DEU_2015\")\n",
    "mailout_test = convert_categories_to_onehot(mailout_test, \"D19_LETZTER_KAUF_BRANCHE\")\n",
    "\n",
    "\n",
    "# handle time stamps\n",
    "mailout_test['EINGEFUEGT_AM'] = pd.to_datetime(mailout_test['EINGEFUEGT_AM']).sub(pd.Timestamp('1900-01-01')).dt.days\n",
    "\n",
    "for c in mailout_test.columns:\n",
    "    mailout_test[c].fillna(mailout_test[c].mean(), inplace=True)\n",
    "print([col for col in mailout_test.columns if np.sum(mailout_test[col].isna()) > 0])\n",
    "\n",
    "max_mailout_test = mailout_test.max()\n",
    "min_mailout_test = mailout_test.min()\n",
    "normalized_mailout_test = (mailout_test - min_mailout_test)/(max_mailout_test - min_mailout_test)\n",
    "normalized_mailout_test.describe()"
   ]
  },
  {
   "cell_type": "code",
   "execution_count": null,
   "metadata": {},
   "outputs": [],
   "source": [
    "\n",
    "print(normalized_mailout_test.shape)\n",
    "test_matrix = xgb.DMatrix(normalized_mailout_test)\n",
    "pred = gbt.predict(test_matrix, ntree_limit=n_best_trees)\n",
    "print(len(pred))\n",
    "df_pred_test = pd.DataFrame({\"RESPONSE\":pred})\n"
   ]
  },
  {
   "cell_type": "code",
   "execution_count": null,
   "metadata": {},
   "outputs": [],
   "source": [
    "mailout_test_save = pd.read_csv('Udacity_MAILOUT_052018_TEST.csv', sep=';')\n",
    "df = pd.DataFrame({\"LNR\":mailout_test_save[\"LNR\"], \"RESPONSE\":pred})\n",
    "print(df.columns)\n",
    "df.to_csv(\"test_pred.csv\",index=False)"
   ]
  },
  {
   "cell_type": "code",
   "execution_count": null,
   "metadata": {},
   "outputs": [],
   "source": []
  }
 ],
 "metadata": {
  "kernelspec": {
   "display_name": "Python 2",
   "language": "python",
   "name": "python2"
  },
  "language_info": {
   "codemirror_mode": {
    "name": "ipython",
    "version": 2
   },
   "file_extension": ".py",
   "mimetype": "text/x-python",
   "name": "python",
   "nbconvert_exporter": "python",
   "pygments_lexer": "ipython2",
   "version": "2.7.15"
  }
 },
 "nbformat": 4,
 "nbformat_minor": 2
}
