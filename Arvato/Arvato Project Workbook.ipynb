{
 "cells": [
  {
   "cell_type": "markdown",
   "metadata": {},
   "source": [
    "# Capstone Project: Create a Customer Segmentation Report for Arvato Financial Services\n",
    "\n",
    "In this project, you will analyze demographics data for customers of a mail-order sales company in Germany, comparing it against demographics information for the general population. You'll use unsupervised learning techniques to perform customer segmentation, identifying the parts of the population that best describe the core customer base of the company. Then, you'll apply what you've learned on a third dataset with demographics information for targets of a marketing campaign for the company, and use a model to predict which individuals are most likely to convert into becoming customers for the company. The data that you will use has been provided by our partners at Bertelsmann Arvato Analytics, and represents a real-life data science task.\n",
    "\n",
    "If you completed the first term of this program, you will be familiar with the first part of this project, from the unsupervised learning project. The versions of those two datasets used in this project will include many more features and has not been pre-cleaned. You are also free to choose whatever approach you'd like to analyzing the data rather than follow pre-determined steps. In your work on this project, make sure that you carefully document your steps and decisions, since your main deliverable for this project will be a blog post reporting your findings."
   ]
  },
  {
   "cell_type": "code",
   "execution_count": 1,
   "metadata": {},
   "outputs": [],
   "source": [
    "# import libraries here; add more as necessary\n",
    "import numpy as np\n",
    "import pandas as pd\n",
    "import matplotlib.pyplot as plt\n",
    "import seaborn as sns\n",
    "\n",
    "# magic word for producing visualizations in notebook\n",
    "%matplotlib inline"
   ]
  },
  {
   "cell_type": "markdown",
   "metadata": {},
   "source": [
    "## Part 0: Get to Know the Data\n",
    "\n",
    "There are four data files associated with this project:\n",
    "\n",
    "- `Udacity_AZDIAS_052018.csv`: Demographics data for the general population of Germany; 891 211 persons (rows) x 366 features (columns).\n",
    "- `Udacity_CUSTOMERS_052018.csv`: Demographics data for customers of a mail-order company; 191 652 persons (rows) x 369 features (columns).\n",
    "- `Udacity_MAILOUT_052018_TRAIN.csv`: Demographics data for individuals who were targets of a marketing campaign; 42 982 persons (rows) x 367 (columns).\n",
    "- `Udacity_MAILOUT_052018_TEST.csv`: Demographics data for individuals who were targets of a marketing campaign; 42 833 persons (rows) x 366 (columns).\n",
    "\n",
    "Each row of the demographics files represents a single person, but also includes information outside of individuals, including information about their household, building, and neighborhood. Use the information from the first two files to figure out how customers (\"CUSTOMERS\") are similar to or differ from the general population at large (\"AZDIAS\"), then use your analysis to make predictions on the other two files (\"MAILOUT\"), predicting which recipients are most likely to become a customer for the mail-order company.\n",
    "\n",
    "The \"CUSTOMERS\" file contains three extra columns ('CUSTOMER_GROUP', 'ONLINE_PURCHASE', and 'PRODUCT_GROUP'), which provide broad information about the customers depicted in the file. The original \"MAILOUT\" file included one additional column, \"RESPONSE\", which indicated whether or not each recipient became a customer of the company. For the \"TRAIN\" subset, this column has been retained, but in the \"TEST\" subset it has been removed; it is against that withheld column that your final predictions will be assessed in the Kaggle competition.\n",
    "\n",
    "Otherwise, all of the remaining columns are the same between the three data files. For more information about the columns depicted in the files, you can refer to two Excel spreadsheets provided in the workspace. [One of them](./DIAS Information Levels - Attributes 2017.xlsx) is a top-level list of attributes and descriptions, organized by informational category. [The other](./DIAS Attributes - Values 2017.xlsx) is a detailed mapping of data values for each feature in alphabetical order.\n",
    "\n",
    "In the below cell, we've provided some initial code to load in the first two datasets. Note for all of the `.csv` data files in this project that they're semicolon (`;`) delimited, so an additional argument in the [`read_csv()`](https://pandas.pydata.org/pandas-docs/stable/generated/pandas.read_csv.html) call has been included to read in the data properly. Also, considering the size of the datasets, it may take some time for them to load completely.\n",
    "\n",
    "You'll notice when the data is loaded in that a warning message will immediately pop up. Before you really start digging into the modeling and analysis, you're going to need to perform some cleaning. Take some time to browse the structure of the data and look over the informational spreadsheets to understand the data values. Make some decisions on which features to keep, which features to drop, and if any revisions need to be made on data formats. It'll be a good idea to create a function with pre-processing steps, since you'll need to clean all of the datasets before you work with them."
   ]
  },
  {
   "cell_type": "code",
   "execution_count": 2,
   "metadata": {},
   "outputs": [
    {
     "name": "stderr",
     "output_type": "stream",
     "text": [
      "/anaconda2/lib/python2.7/site-packages/IPython/core/interactiveshell.py:2714: DtypeWarning: Columns (18,19) have mixed types. Specify dtype option on import or set low_memory=False.\n",
      "  interactivity=interactivity, compiler=compiler, result=result)\n"
     ]
    }
   ],
   "source": [
    "# load in the data\n",
    "azdias = pd.read_csv('./Udacity_AZDIAS_052018.csv', sep=';')\n",
    "customers = pd.read_csv('./Udacity_CUSTOMERS_052018.csv', sep=';')\n"
   ]
  },
  {
   "cell_type": "code",
   "execution_count": 3,
   "metadata": {},
   "outputs": [],
   "source": [
    "# Be sure to add in a lot more cells (both markdown and code) to document your\n",
    "# approach and findings!\n",
    "#azdias['CAMEO_INTL_2015']"
   ]
  },
  {
   "cell_type": "markdown",
   "metadata": {},
   "source": [
    "### Data Cleaning\n",
    "#### 1. Data Cleaning - convert unknown values to `NaN`\n",
    "The first step is to look at the features and the range of possible of each range. The description of each column can be found in `DIAS Information Levels - Attributes 2017.xlsx` and `DIAS Attributes - Values 2017.xlsx`. The values of each feature contains different ranges, and some represents \"unknown\". The first step is to manually convert these \"unknowns\" to NaN.\n"
   ]
  },
  {
   "cell_type": "markdown",
   "metadata": {},
   "source": [
    "##### a) read features from attribute file"
   ]
  },
  {
   "cell_type": "code",
   "execution_count": 4,
   "metadata": {},
   "outputs": [
    {
     "name": "stdout",
     "output_type": "stream",
     "text": [
      "set(['CUSTOMER_GROUP', 'PRODUCT_GROUP', 'ONLINE_PURCHASE'])\n"
     ]
    }
   ],
   "source": [
    "ATTRIBUTE_FILE=\"DIAS Attributes - Values 2017.xlsx\"\n",
    "\n",
    "df_Levels_Attributes = pd.read_excel(ATTRIBUTE_FILE)\n",
    "#print(df_Levels_Attributes.head())\n",
    "for i in range(len(df_Levels_Attributes[\"Attribute\"])):\n",
    "    if pd.isna(df_Levels_Attributes.iloc[i][\"Attribute\"]):\n",
    "        df_Levels_Attributes.at[i,\"Attribute\"] = attr_name\n",
    "    else:\n",
    "        attr_name = df_Levels_Attributes.iloc[i][\"Attribute\"]\n",
    "\n",
    "COLUMN_UNKNOWN_VALUE = dict()\n",
    "for index, row in df_Levels_Attributes[df_Levels_Attributes[\"Meaning\"] == \"unknown\"].iterrows():\n",
    "    COLUMN_UNKNOWN_VALUE[row[\"Attribute\"]] = [int(n) for n in str(row[\"Value\"]).split(\",\")]\n",
    "#print(sorted([key for key in azdias.columns]))\n",
    "\n",
    "INTEGER_LABELS_COLUMN = {\"ANZ_HAUSHALTE_AKTIV\", \"ANZ_HH_TITEL\", \"ANZ_PERSONEN\", \n",
    "                         \"ANZ_TITEL\", \"GEBURTSJAHR\", \"KBA13_ANZAHL_PKW\", \"MIN_GEBAEUDEJAHR\"}\n",
    "COLUMN_LABELS = dict()\n",
    "for index, row in df_Levels_Attributes[df_Levels_Attributes[\"Meaning\"] != \"unknown\"].iterrows():\n",
    "    if row[\"Attribute\"] not in COLUMN_LABELS:\n",
    "        COLUMN_LABELS[row[\"Attribute\"]] = []\n",
    "    if row[\"Attribute\"] in INTEGER_LABELS_COLUMN:\n",
    "        continue\n",
    "    #print(row[\"Attribute\"], row[\"Value\"])\n",
    "    COLUMN_LABELS[row[\"Attribute\"]] += str(row[\"Value\"]).split(\",\")\n",
    "#COLUMN_LABELS[\"CAMEO_DEU_2015\"]\n",
    "#azdias[azdias[\"CAMEO_DEU_2015\"] == \"XX\"][\"CAMEO_DEU_2015\"]\n",
    "#azdias.loc[2511,\"CAMEO_DEU_2015\"] in COLUMN_LABELS[\"CAMEO_DEU_2015\"]\n",
    "#COLUMN_UNKNOWN_VALUE[\"CAMEO_DEU_2015\"]\n",
    "#set(COLUMN_LABELS.keys()) - set(azdias.columns)\n",
    "#(set(azdias.columns) - set(COLUMN_LABELS.keys()))\n",
    "print(set(customers.columns) - set(azdias.columns))"
   ]
  },
  {
   "cell_type": "markdown",
   "metadata": {},
   "source": [
    "##### b) Drop undocumented features\n",
    "Many features in the azdias and customers dataframe are not explained in the attribute file. These columns are dropped."
   ]
  },
  {
   "cell_type": "code",
   "execution_count": 5,
   "metadata": {},
   "outputs": [
    {
     "name": "stdout",
     "output_type": "stream",
     "text": [
      "set(['CJT_TYP_6', 'CJT_TYP_5', 'CJT_TYP_4', 'CJT_TYP_3', 'CJT_TYP_2', 'CJT_TYP_1', 'UMFELD_JUNG', 'D19_TELKO_REST', 'D19_NAHRUNGSERGAENZUNG', 'ANZ_KINDER', 'EINGEFUEGT_AM', 'D19_SAMMELARTIKEL', 'RT_KEIN_ANREIZ', 'KONSUMZELLE', 'D19_KONSUMTYP_MAX', 'CJT_KATALOGNUTZER', 'D19_BANKEN_LOKAL', 'DSL_FLAG', 'D19_KINDERARTIKEL', 'ALTERSKATEGORIE_FEIN', 'KBA13_HHZ', 'STRUKTURTYP', 'D19_KOSMETIK', 'D19_RATGEBER', 'UNGLEICHENN_FLAG', 'RT_UEBERGROESSE', 'D19_BILDUNG', 'EXTSEL992', 'D19_DROGERIEARTIKEL', 'EINGEZOGENAM_HH_JAHR', 'D19_DIGIT_SERV', 'ARBEIT', 'D19_TELKO_ONLINE_QUOTE_12', 'VK_DHT4A', 'D19_VERSI_ONLINE_QUOTE_12', 'GEMEINDETYP', 'HH_DELTA_FLAG', 'KBA13_BAUMAX', 'D19_VOLLSORTIMENT', 'KBA13_KMH_210', 'D19_BEKLEIDUNG_REST', 'D19_VERSICHERUNGEN', 'D19_VERSI_OFFLINE_DATUM', 'D19_SCHUHE', 'D19_BEKLEIDUNG_GEH', 'D19_VERSAND_REST', 'D19_TELKO_MOBILE', 'LNR', 'D19_TIERARTIKEL', 'D19_BANKEN_REST', 'D19_VERSI_ONLINE_DATUM', 'D19_HAUS_DEKO', 'VK_ZG11', 'KOMBIALTER', 'D19_LEBENSMITTEL', 'D19_HANDWERK', 'D19_SOZIALES', 'D19_WEIN_FEINKOST', 'FIRMENDICHTE', 'ALTER_KIND1', 'ALTER_KIND2', 'ALTER_KIND3', 'ALTER_KIND4', 'KBA13_GBZ', 'D19_LETZTER_KAUF_BRANCHE', 'D19_BIO_OEKO', 'KK_KUNDENTYP', 'D19_BANKEN_DIREKT', 'D19_FREIZEIT', 'VHN', 'D19_REISEN', 'D19_VERSI_DATUM', 'VHA', 'D19_TECHNIK', 'RT_SCHNAEPPCHEN', 'VK_DISTANZ', 'D19_LOTTO', 'D19_ENERGIE', 'UMFELD_ALT', 'D19_SONSTIGE', 'SOHO_KZ', 'KBA13_CCM_1401_2500', 'MOBI_RASTER', 'D19_BUCH_CD', 'KBA13_ANTG1', 'KBA13_ANTG2', 'KBA13_ANTG3', 'KBA13_ANTG4', 'D19_BANKEN_GROSS', 'ANZ_STATISTISCHE_HAUSHALTE', 'AKT_DAT_KL', 'VERDICHTUNGSRAUM', 'D19_GARTEN'])\n"
     ]
    }
   ],
   "source": [
    "UNDOCUMENTED_COLUMN = set(azdias.columns) - set(COLUMN_LABELS.keys())\n",
    "print(UNDOCUMENTED_COLUMN)\n",
    "\n",
    "azdias = azdias.drop(columns=UNDOCUMENTED_COLUMN)\n",
    "customers = customers.drop(columns=UNDOCUMENTED_COLUMN)\n",
    "#print(customers[\"ONLINE_PURCHASE\"])"
   ]
  },
  {
   "cell_type": "markdown",
   "metadata": {},
   "source": [
    "##### c) Convert values that represents \"unknown\" to `NaN`\n",
    "In some columns, the value of `0` or `-1` actually means unknown,or some values are out-of-range. These data are replaced with `NaN`."
   ]
  },
  {
   "cell_type": "code",
   "execution_count": 6,
   "metadata": {},
   "outputs": [
    {
     "name": "stdout",
     "output_type": "stream",
     "text": [
      "   AGER_TYP  ALTER_HH  ANZ_HAUSHALTE_AKTIV  ANZ_HH_TITEL  ANZ_PERSONEN  \\\n",
      "0        -1       NaN                  NaN           NaN           NaN   \n",
      "1        -1       0.0                 11.0           0.0           2.0   \n",
      "2        -1      17.0                 10.0           0.0           1.0   \n",
      "3         2      13.0                  1.0           0.0           0.0   \n",
      "4        -1      20.0                  3.0           0.0           4.0   \n",
      "\n",
      "   ANZ_TITEL  BALLRAUM CAMEO_DEU_2015 CAMEO_DEUG_2015 CAMEO_INTL_2015  \\\n",
      "0        NaN       NaN            NaN             NaN             NaN   \n",
      "1        0.0       6.0             8A               8              51   \n",
      "2        0.0       2.0             4C               4              24   \n",
      "3        0.0       4.0             2A               2              12   \n",
      "4        0.0       2.0             6B               6              43   \n",
      "\n",
      "           ...           SEMIO_VERT  SHOPPER_TYP  TITEL_KZ  VERS_TYP  \\\n",
      "0          ...                    1           -1       NaN        -1   \n",
      "1          ...                    1            3       0.0         2   \n",
      "2          ...                    4            2       0.0         1   \n",
      "3          ...                    4            1       0.0         1   \n",
      "4          ...                    7            2       0.0         2   \n",
      "\n",
      "   W_KEIT_KIND_HH  WOHNDAUER_2008  WOHNLAGE  ZABEOTYP  ANREDE_KZ  \\\n",
      "0             NaN             NaN       NaN         3          1   \n",
      "1             3.0             9.0       4.0         5          2   \n",
      "2             3.0             9.0       2.0         5          2   \n",
      "3             NaN             9.0       7.0         3          2   \n",
      "4             2.0             9.0       3.0         4          1   \n",
      "\n",
      "   ALTERSKATEGORIE_GROB  \n",
      "0                     2  \n",
      "1                     1  \n",
      "2                     3  \n",
      "3                     4  \n",
      "4                     3  \n",
      "\n",
      "[5 rows x 273 columns]\n",
      "   AGER_TYP  ALTER_HH  ANZ_HAUSHALTE_AKTIV  ANZ_HH_TITEL  ANZ_PERSONEN  \\\n",
      "0       NaN       NaN                  NaN           NaN           NaN   \n",
      "1       NaN       0.0                 11.0           0.0           2.0   \n",
      "2       NaN      17.0                 10.0           0.0           1.0   \n",
      "3       2.0      13.0                  1.0           0.0           0.0   \n",
      "4       NaN      20.0                  3.0           0.0           4.0   \n",
      "\n",
      "   ANZ_TITEL  BALLRAUM CAMEO_DEU_2015 CAMEO_DEUG_2015 CAMEO_INTL_2015  \\\n",
      "0        NaN       NaN            NaN             NaN             NaN   \n",
      "1        0.0       6.0             8A             NaN             NaN   \n",
      "2        0.0       2.0             4C             NaN             NaN   \n",
      "3        0.0       4.0             2A             NaN             NaN   \n",
      "4        0.0       2.0             6B             NaN             NaN   \n",
      "\n",
      "           ...           SEMIO_VERT  SHOPPER_TYP  TITEL_KZ  VERS_TYP  \\\n",
      "0          ...                  1.0          NaN       NaN       NaN   \n",
      "1          ...                  1.0          3.0       NaN       2.0   \n",
      "2          ...                  4.0          2.0       NaN       1.0   \n",
      "3          ...                  4.0          1.0       NaN       1.0   \n",
      "4          ...                  7.0          2.0       NaN       2.0   \n",
      "\n",
      "   W_KEIT_KIND_HH  WOHNDAUER_2008  WOHNLAGE  ZABEOTYP  ANREDE_KZ  \\\n",
      "0             NaN             NaN       NaN       3.0        1.0   \n",
      "1             3.0             9.0       4.0       5.0        2.0   \n",
      "2             3.0             9.0       2.0       5.0        2.0   \n",
      "3             NaN             9.0       7.0       3.0        2.0   \n",
      "4             2.0             9.0       3.0       4.0        1.0   \n",
      "\n",
      "   ALTERSKATEGORIE_GROB  \n",
      "0                   2.0  \n",
      "1                   1.0  \n",
      "2                   3.0  \n",
      "3                   4.0  \n",
      "4                   3.0  \n",
      "\n",
      "[5 rows x 273 columns]\n",
      "<bound method DataFrame.head of         AGER_TYP  ALTER_HH  ANZ_HAUSHALTE_AKTIV  ANZ_HH_TITEL  ANZ_PERSONEN  \\\n",
      "0              2      10.0                  1.0           0.0           2.0   \n",
      "1             -1      11.0                  NaN           NaN           3.0   \n",
      "2             -1       6.0                  1.0           0.0           1.0   \n",
      "3              1       8.0                  0.0           NaN           0.0   \n",
      "4             -1      20.0                  7.0           0.0           4.0   \n",
      "5              1      11.0                  1.0           0.0           2.0   \n",
      "6              2      10.0                  1.0           0.0           2.0   \n",
      "7              1      10.0                  1.0           0.0           2.0   \n",
      "8              2       5.0                 74.0           2.0           1.0   \n",
      "9              1      20.0                  1.0           0.0           3.0   \n",
      "10            -1      14.0                  NaN           NaN           1.0   \n",
      "11             1      10.0                  1.0           0.0           1.0   \n",
      "12            -1      21.0                  1.0           0.0           3.0   \n",
      "13            -1      15.0                  1.0           0.0           2.0   \n",
      "14             2       6.0                  9.0           0.0           1.0   \n",
      "15             2      17.0                  1.0           0.0           5.0   \n",
      "16             1       0.0                  1.0           0.0           2.0   \n",
      "17            -1      20.0                  1.0           0.0           6.0   \n",
      "18            -1      17.0                 17.0           0.0           1.0   \n",
      "19            -1       0.0                 12.0           0.0           1.0   \n",
      "20            -1       0.0                  1.0           0.0           3.0   \n",
      "21             2      11.0                 29.0           0.0           1.0   \n",
      "22             2       8.0                  2.0           0.0           3.0   \n",
      "23            -1      14.0                 45.0           0.0           1.0   \n",
      "24             2      19.0                  2.0           0.0           4.0   \n",
      "25            -1      21.0                  1.0           0.0           4.0   \n",
      "26             1       9.0                  2.0           0.0           2.0   \n",
      "27            -1      19.0                  1.0           0.0           5.0   \n",
      "28             2       8.0                 10.0           0.0           1.0   \n",
      "29             0      12.0                 14.0           0.0           1.0   \n",
      "...          ...       ...                  ...           ...           ...   \n",
      "191622         2       8.0                  2.0           0.0           2.0   \n",
      "191623         1      11.0                  1.0           0.0           4.0   \n",
      "191624         1      13.0                  1.0           0.0           1.0   \n",
      "191625         2      10.0                  1.0           0.0           2.0   \n",
      "191626        -1      14.0                  7.0           0.0           1.0   \n",
      "191627         3       9.0                 11.0           0.0           1.0   \n",
      "191628         1      12.0                  1.0           0.0           1.0   \n",
      "191629         2       8.0                 97.0           1.0           2.0   \n",
      "191630         2      10.0                  1.0           0.0           1.0   \n",
      "191631         2       9.0                 24.0           0.0           0.0   \n",
      "191632         0      18.0                  3.0           0.0           3.0   \n",
      "191633         1      20.0                  1.0           0.0           3.0   \n",
      "191634         2      18.0                  2.0           0.0           4.0   \n",
      "191635         2      14.0                  1.0           0.0           2.0   \n",
      "191636         2       8.0                  1.0           1.0           2.0   \n",
      "191637        -1      21.0                  1.0           0.0           4.0   \n",
      "191638         1      12.0                 20.0           0.0           3.0   \n",
      "191639        -1      15.0                  2.0           0.0           1.0   \n",
      "191640         3      19.0                  3.0           0.0           3.0   \n",
      "191641         1       9.0                  1.0           0.0           1.0   \n",
      "191642         2       9.0                 32.0           0.0           1.0   \n",
      "191643         2      18.0                  1.0           0.0           4.0   \n",
      "191644         2      13.0                  7.0           0.0           1.0   \n",
      "191645         2      21.0                  2.0           0.0           7.0   \n",
      "191646         3      13.0                  5.0           0.0           1.0   \n",
      "191647         1       9.0                  1.0           0.0           1.0   \n",
      "191648        -1       0.0                  0.0           NaN           0.0   \n",
      "191649         2      15.0                  1.0           0.0           3.0   \n",
      "191650         3      13.0                  4.0           0.0           4.0   \n",
      "191651         3       0.0                  1.0           0.0           3.0   \n",
      "\n",
      "        ANZ_TITEL  BALLRAUM CAMEO_DEU_2015 CAMEO_DEUG_2015 CAMEO_INTL_2015  \\\n",
      "0             0.0       3.0             1A               1              13   \n",
      "1             0.0       NaN            NaN             NaN             NaN   \n",
      "2             0.0       7.0             5D               5              34   \n",
      "3             0.0       7.0             4C               4              24   \n",
      "4             0.0       3.0             7B               7              41   \n",
      "5             0.0       7.0             5D               5              34   \n",
      "6             0.0       6.0             3B               3              23   \n",
      "7             0.0       5.0             1D               1              15   \n",
      "8             0.0       3.0             9E               9              55   \n",
      "9             0.0       2.0             1D               1              15   \n",
      "10            0.0       NaN            NaN             NaN             NaN   \n",
      "11            0.0       6.0             2D               2              14   \n",
      "12            0.0       6.0             4A               4              22   \n",
      "13            0.0       6.0             6B               6              43   \n",
      "14            0.0       1.0             9D               9              51   \n",
      "15            0.0       2.0             1D               1              15   \n",
      "16            0.0       3.0             1D               1              15   \n",
      "17            0.0       2.0             2D               2              14   \n",
      "18            0.0       1.0             8B               8              41   \n",
      "19            0.0       6.0             4C               4              24   \n",
      "20            0.0       2.0             5C               5              33   \n",
      "21            0.0       3.0             6B               6              43   \n",
      "22            0.0       6.0             4C               4              24   \n",
      "23            0.0       1.0             9C               9              51   \n",
      "24            0.0       6.0             5C               5              33   \n",
      "25            0.0       6.0             4A               4              22   \n",
      "26            0.0       7.0             4E               4              25   \n",
      "27            0.0       6.0             6C               6              44   \n",
      "28            0.0       6.0             8C               8              54   \n",
      "29            0.0       1.0             8A               8              51   \n",
      "...           ...       ...            ...             ...             ...   \n",
      "191622        0.0       6.0             6B               6              43   \n",
      "191623        0.0       7.0             2C               2              14   \n",
      "191624        0.0       4.0             7C               7              54   \n",
      "191625        0.0       4.0             3D               3              25   \n",
      "191626        0.0       1.0             4C               4              24   \n",
      "191627        0.0       6.0             8D               8              55   \n",
      "191628        0.0       6.0             4A               4              22   \n",
      "191629        0.0       2.0             9E               9              55   \n",
      "191630        0.0       4.0             8A               8              51   \n",
      "191631        0.0       2.0             6C               6              44   \n",
      "191632        0.0       6.0             2D               2              14   \n",
      "191633        0.0       4.0             2C               2              14   \n",
      "191634        0.0       7.0             5C               5              33   \n",
      "191635        0.0       6.0             6E               6              45   \n",
      "191636        1.0       3.0             5D               5              34   \n",
      "191637        0.0       6.0             3D               3              25   \n",
      "191638        0.0       6.0             9A               9              52   \n",
      "191639        0.0       6.0             4A               4              22   \n",
      "191640        0.0       6.0             1E               1              15   \n",
      "191641        0.0       6.0             2C               2              14   \n",
      "191642        0.0       1.0             8D               8              55   \n",
      "191643        0.0       5.0             1D               1              15   \n",
      "191644        0.0       7.0             8B               8              41   \n",
      "191645        0.0       2.0             6B               6              43   \n",
      "191646        0.0       1.0             1C               1              14   \n",
      "191647        0.0       1.0             1C               1              14   \n",
      "191648        0.0       6.0             5B               5              32   \n",
      "191649        0.0       7.0             4D               4              24   \n",
      "191650        0.0       3.0             4C               4              24   \n",
      "191651        0.0       3.0             5C               5              33   \n",
      "\n",
      "                ...           VERS_TYP  W_KEIT_KIND_HH  WOHNDAUER_2008  \\\n",
      "0               ...                  1             6.0             9.0   \n",
      "1               ...                  1             0.0             9.0   \n",
      "2               ...                  2             6.0             9.0   \n",
      "3               ...                  1             NaN             9.0   \n",
      "4               ...                  2             2.0             9.0   \n",
      "5               ...                  2             6.0             9.0   \n",
      "6               ...                  1             6.0             9.0   \n",
      "7               ...                  1             6.0             9.0   \n",
      "8               ...                  2             6.0             3.0   \n",
      "9               ...                  2             2.0             9.0   \n",
      "10              ...                  1             0.0             3.0   \n",
      "11              ...                  1             6.0             3.0   \n",
      "12              ...                  1             4.0             9.0   \n",
      "13              ...                  2             1.0             9.0   \n",
      "14              ...                  2             6.0             7.0   \n",
      "15              ...                  2             2.0             9.0   \n",
      "16              ...                  1             1.0             9.0   \n",
      "17              ...                  1             2.0             9.0   \n",
      "18              ...                  2             5.0             9.0   \n",
      "19              ...                  2             6.0             8.0   \n",
      "20              ...                  1             6.0             9.0   \n",
      "21              ...                  1             6.0             5.0   \n",
      "22              ...                  2             6.0             9.0   \n",
      "23              ...                  2             5.0             7.0   \n",
      "24              ...                  1             2.0             9.0   \n",
      "25              ...                  1             1.0             9.0   \n",
      "26              ...                  2             4.0             9.0   \n",
      "27              ...                  2             2.0             9.0   \n",
      "28              ...                  2             6.0             9.0   \n",
      "29              ...                  1             6.0             9.0   \n",
      "...             ...                ...             ...             ...   \n",
      "191622          ...                  1             6.0             9.0   \n",
      "191623          ...                  1             4.0             9.0   \n",
      "191624          ...                  1             5.0             9.0   \n",
      "191625          ...                  2             6.0             9.0   \n",
      "191626          ...                  2             4.0             4.0   \n",
      "191627          ...                  1             6.0             9.0   \n",
      "191628          ...                  1             6.0             9.0   \n",
      "191629          ...                  2             3.0             4.0   \n",
      "191630          ...                  2             6.0             8.0   \n",
      "191631          ...                  2             NaN             9.0   \n",
      "191632          ...                  2             2.0             9.0   \n",
      "191633          ...                  2             3.0             9.0   \n",
      "191634          ...                  2             2.0             9.0   \n",
      "191635          ...                  2             6.0             9.0   \n",
      "191636          ...                  1             6.0             9.0   \n",
      "191637          ...                  2             4.0             9.0   \n",
      "191638          ...                  2             6.0             9.0   \n",
      "191639          ...                  1             3.0             7.0   \n",
      "191640          ...                  2             5.0             9.0   \n",
      "191641          ...                  1             6.0             9.0   \n",
      "191642          ...                  2             6.0             9.0   \n",
      "191643          ...                  2             2.0             9.0   \n",
      "191644          ...                  2             4.0             9.0   \n",
      "191645          ...                  1             2.0             9.0   \n",
      "191646          ...                  2             6.0             9.0   \n",
      "191647          ...                  2             6.0             9.0   \n",
      "191648          ...                  2             NaN             9.0   \n",
      "191649          ...                  1             3.0             9.0   \n",
      "191650          ...                  1             4.0             9.0   \n",
      "191651          ...                  1             3.0             9.0   \n",
      "\n",
      "        WOHNLAGE  ZABEOTYP      PRODUCT_GROUP  CUSTOMER_GROUP  \\\n",
      "0            7.0         3  COSMETIC_AND_FOOD     MULTI_BUYER   \n",
      "1            NaN         3               FOOD    SINGLE_BUYER   \n",
      "2            2.0         3  COSMETIC_AND_FOOD     MULTI_BUYER   \n",
      "3            7.0         1           COSMETIC     MULTI_BUYER   \n",
      "4            3.0         1               FOOD     MULTI_BUYER   \n",
      "5            1.0         2  COSMETIC_AND_FOOD     MULTI_BUYER   \n",
      "6            7.0         1  COSMETIC_AND_FOOD     MULTI_BUYER   \n",
      "7            3.0         3               FOOD    SINGLE_BUYER   \n",
      "8            4.0         3           COSMETIC     MULTI_BUYER   \n",
      "9            5.0         1           COSMETIC     MULTI_BUYER   \n",
      "10           NaN         3           COSMETIC     MULTI_BUYER   \n",
      "11           4.0         1               FOOD    SINGLE_BUYER   \n",
      "12           7.0         1               FOOD    SINGLE_BUYER   \n",
      "13           4.0         4               FOOD    SINGLE_BUYER   \n",
      "14           3.0         4  COSMETIC_AND_FOOD     MULTI_BUYER   \n",
      "15           2.0         1  COSMETIC_AND_FOOD     MULTI_BUYER   \n",
      "16           2.0         1           COSMETIC    SINGLE_BUYER   \n",
      "17           2.0         1           COSMETIC     MULTI_BUYER   \n",
      "18           3.0         4           COSMETIC    SINGLE_BUYER   \n",
      "19           3.0         3               FOOD    SINGLE_BUYER   \n",
      "20           2.0         1               FOOD    SINGLE_BUYER   \n",
      "21           7.0         4               FOOD    SINGLE_BUYER   \n",
      "22           7.0         3               FOOD    SINGLE_BUYER   \n",
      "23           4.0         6           COSMETIC    SINGLE_BUYER   \n",
      "24           3.0         3  COSMETIC_AND_FOOD     MULTI_BUYER   \n",
      "25           7.0         1  COSMETIC_AND_FOOD     MULTI_BUYER   \n",
      "26           7.0         3           COSMETIC     MULTI_BUYER   \n",
      "27           1.0         1           COSMETIC    SINGLE_BUYER   \n",
      "28           5.0         3           COSMETIC     MULTI_BUYER   \n",
      "29           3.0         3               FOOD    SINGLE_BUYER   \n",
      "...          ...       ...                ...             ...   \n",
      "191622       7.0         3  COSMETIC_AND_FOOD     MULTI_BUYER   \n",
      "191623       1.0         1  COSMETIC_AND_FOOD     MULTI_BUYER   \n",
      "191624       1.0         1           COSMETIC     MULTI_BUYER   \n",
      "191625       3.0         3               FOOD    SINGLE_BUYER   \n",
      "191626       2.0         4  COSMETIC_AND_FOOD     MULTI_BUYER   \n",
      "191627       4.0         3  COSMETIC_AND_FOOD     MULTI_BUYER   \n",
      "191628       1.0         3           COSMETIC    SINGLE_BUYER   \n",
      "191629       2.0         3           COSMETIC     MULTI_BUYER   \n",
      "191630       3.0         3           COSMETIC    SINGLE_BUYER   \n",
      "191631       3.0         3  COSMETIC_AND_FOOD     MULTI_BUYER   \n",
      "191632       7.0         1               FOOD    SINGLE_BUYER   \n",
      "191633       3.0         1               FOOD    SINGLE_BUYER   \n",
      "191634       7.0         3  COSMETIC_AND_FOOD     MULTI_BUYER   \n",
      "191635       3.0         3  COSMETIC_AND_FOOD     MULTI_BUYER   \n",
      "191636       1.0         2  COSMETIC_AND_FOOD     MULTI_BUYER   \n",
      "191637       3.0         1               FOOD    SINGLE_BUYER   \n",
      "191638       3.0         3  COSMETIC_AND_FOOD     MULTI_BUYER   \n",
      "191639       5.0         1  COSMETIC_AND_FOOD     MULTI_BUYER   \n",
      "191640       2.0         1           COSMETIC    SINGLE_BUYER   \n",
      "191641       7.0         1  COSMETIC_AND_FOOD     MULTI_BUYER   \n",
      "191642       5.0         3               FOOD    SINGLE_BUYER   \n",
      "191643       1.0         1  COSMETIC_AND_FOOD     MULTI_BUYER   \n",
      "191644       3.0         3  COSMETIC_AND_FOOD     MULTI_BUYER   \n",
      "191645       4.0         6  COSMETIC_AND_FOOD     MULTI_BUYER   \n",
      "191646       4.0         3               FOOD    SINGLE_BUYER   \n",
      "191647       1.0         3  COSMETIC_AND_FOOD     MULTI_BUYER   \n",
      "191648       3.0         3           COSMETIC    SINGLE_BUYER   \n",
      "191649       3.0         3  COSMETIC_AND_FOOD     MULTI_BUYER   \n",
      "191650       2.0         3               FOOD    SINGLE_BUYER   \n",
      "191651       7.0         1  COSMETIC_AND_FOOD     MULTI_BUYER   \n",
      "\n",
      "        ONLINE_PURCHASE  ANREDE_KZ  ALTERSKATEGORIE_GROB  \n",
      "0                     0          1                     4  \n",
      "1                     0          1                     4  \n",
      "2                     0          2                     4  \n",
      "3                     0          1                     4  \n",
      "4                     0          1                     3  \n",
      "5                     0          1                     3  \n",
      "6                     0          1                     4  \n",
      "7                     0          1                     4  \n",
      "8                     0          2                     4  \n",
      "9                     0          1                     3  \n",
      "10                    1          2                     3  \n",
      "11                    0          1                     4  \n",
      "12                    0          1                     4  \n",
      "13                    1          1                     3  \n",
      "14                    0          2                     4  \n",
      "15                    1          1                     3  \n",
      "16                    0          1                     4  \n",
      "17                    0          1                     4  \n",
      "18                    1          1                     2  \n",
      "19                    0          2                     4  \n",
      "20                    0          1                     4  \n",
      "21                    0          1                     4  \n",
      "22                    0          2                     1  \n",
      "23                    1          1                     3  \n",
      "24                    0          2                     4  \n",
      "25                    0          2                     3  \n",
      "26                    0          2                     4  \n",
      "27                    0          1                     3  \n",
      "28                    0          2                     4  \n",
      "29                    0          2                     3  \n",
      "...                 ...        ...                   ...  \n",
      "191622                0          1                     4  \n",
      "191623                0          1                     4  \n",
      "191624                0          1                     4  \n",
      "191625                0          2                     4  \n",
      "191626                0          1                     2  \n",
      "191627                0          2                     3  \n",
      "191628                0          1                     4  \n",
      "191629                0          2                     4  \n",
      "191630                0          1                     3  \n",
      "191631                0          2                     4  \n",
      "191632                0          1                     3  \n",
      "191633                0          1                     4  \n",
      "191634                1          1                     3  \n",
      "191635                0          2                     4  \n",
      "191636                0          1                     4  \n",
      "191637                0          2                     3  \n",
      "191638                0          1                     4  \n",
      "191639                0          1                     3  \n",
      "191640                0          1                     3  \n",
      "191641                0          1                     4  \n",
      "191642                0          2                     4  \n",
      "191643                0          1                     4  \n",
      "191644                1          2                     4  \n",
      "191645                1          1                     4  \n",
      "191646                0          2                     2  \n",
      "191647                0          1                     3  \n",
      "191648                0          2                     4  \n",
      "191649                0          1                     4  \n",
      "191650                0          2                     3  \n",
      "191651                0          1                     2  \n",
      "\n",
      "[191652 rows x 276 columns]>\n"
     ]
    },
    {
     "name": "stdout",
     "output_type": "stream",
     "text": [
      "<bound method DataFrame.head of         AGER_TYP  ALTER_HH  ANZ_HAUSHALTE_AKTIV  ANZ_HH_TITEL  ANZ_PERSONEN  \\\n",
      "0            2.0      10.0                  1.0           0.0           2.0   \n",
      "1            NaN      11.0                  NaN           NaN           3.0   \n",
      "2            NaN       6.0                  1.0           0.0           1.0   \n",
      "3            1.0       8.0                  0.0           NaN           0.0   \n",
      "4            NaN      20.0                  7.0           0.0           4.0   \n",
      "5            1.0      11.0                  1.0           0.0           2.0   \n",
      "6            2.0      10.0                  1.0           0.0           2.0   \n",
      "7            1.0      10.0                  1.0           0.0           2.0   \n",
      "8            2.0       5.0                 74.0           2.0           1.0   \n",
      "9            1.0      20.0                  1.0           0.0           3.0   \n",
      "10           NaN      14.0                  NaN           NaN           1.0   \n",
      "11           1.0      10.0                  1.0           0.0           1.0   \n",
      "12           NaN      21.0                  1.0           0.0           3.0   \n",
      "13           NaN      15.0                  1.0           0.0           2.0   \n",
      "14           2.0       6.0                  9.0           0.0           1.0   \n",
      "15           2.0      17.0                  1.0           0.0           5.0   \n",
      "16           1.0       0.0                  1.0           0.0           2.0   \n",
      "17           NaN      20.0                  1.0           0.0           6.0   \n",
      "18           NaN      17.0                 17.0           0.0           1.0   \n",
      "19           NaN       0.0                 12.0           0.0           1.0   \n",
      "20           NaN       0.0                  1.0           0.0           3.0   \n",
      "21           2.0      11.0                 29.0           0.0           1.0   \n",
      "22           2.0       8.0                  2.0           0.0           3.0   \n",
      "23           NaN      14.0                 45.0           0.0           1.0   \n",
      "24           2.0      19.0                  2.0           0.0           4.0   \n",
      "25           NaN      21.0                  1.0           0.0           4.0   \n",
      "26           1.0       9.0                  2.0           0.0           2.0   \n",
      "27           NaN      19.0                  1.0           0.0           5.0   \n",
      "28           2.0       8.0                 10.0           0.0           1.0   \n",
      "29           0.0      12.0                 14.0           0.0           1.0   \n",
      "...          ...       ...                  ...           ...           ...   \n",
      "191622       2.0       8.0                  2.0           0.0           2.0   \n",
      "191623       1.0      11.0                  1.0           0.0           4.0   \n",
      "191624       1.0      13.0                  1.0           0.0           1.0   \n",
      "191625       2.0      10.0                  1.0           0.0           2.0   \n",
      "191626       NaN      14.0                  7.0           0.0           1.0   \n",
      "191627       3.0       9.0                 11.0           0.0           1.0   \n",
      "191628       1.0      12.0                  1.0           0.0           1.0   \n",
      "191629       2.0       8.0                 97.0           1.0           2.0   \n",
      "191630       2.0      10.0                  1.0           0.0           1.0   \n",
      "191631       2.0       9.0                 24.0           0.0           0.0   \n",
      "191632       0.0      18.0                  3.0           0.0           3.0   \n",
      "191633       1.0      20.0                  1.0           0.0           3.0   \n",
      "191634       2.0      18.0                  2.0           0.0           4.0   \n",
      "191635       2.0      14.0                  1.0           0.0           2.0   \n",
      "191636       2.0       8.0                  1.0           1.0           2.0   \n",
      "191637       NaN      21.0                  1.0           0.0           4.0   \n",
      "191638       1.0      12.0                 20.0           0.0           3.0   \n",
      "191639       NaN      15.0                  2.0           0.0           1.0   \n",
      "191640       3.0      19.0                  3.0           0.0           3.0   \n",
      "191641       1.0       9.0                  1.0           0.0           1.0   \n",
      "191642       2.0       9.0                 32.0           0.0           1.0   \n",
      "191643       2.0      18.0                  1.0           0.0           4.0   \n",
      "191644       2.0      13.0                  7.0           0.0           1.0   \n",
      "191645       2.0      21.0                  2.0           0.0           7.0   \n",
      "191646       3.0      13.0                  5.0           0.0           1.0   \n",
      "191647       1.0       9.0                  1.0           0.0           1.0   \n",
      "191648       NaN       0.0                  0.0           NaN           0.0   \n",
      "191649       2.0      15.0                  1.0           0.0           3.0   \n",
      "191650       3.0      13.0                  4.0           0.0           4.0   \n",
      "191651       3.0       0.0                  1.0           0.0           3.0   \n",
      "\n",
      "        ANZ_TITEL  BALLRAUM CAMEO_DEU_2015 CAMEO_DEUG_2015 CAMEO_INTL_2015  \\\n",
      "0             0.0       3.0             1A             NaN             NaN   \n",
      "1             0.0       NaN            NaN             NaN             NaN   \n",
      "2             0.0       7.0             5D             NaN             NaN   \n",
      "3             0.0       7.0             4C             NaN             NaN   \n",
      "4             0.0       3.0             7B             NaN             NaN   \n",
      "5             0.0       7.0             5D             NaN             NaN   \n",
      "6             0.0       6.0             3B             NaN             NaN   \n",
      "7             0.0       5.0             1D             NaN             NaN   \n",
      "8             0.0       3.0             9E             NaN             NaN   \n",
      "9             0.0       2.0             1D             NaN             NaN   \n",
      "10            0.0       NaN            NaN             NaN             NaN   \n",
      "11            0.0       6.0             2D             NaN             NaN   \n",
      "12            0.0       6.0             4A             NaN             NaN   \n",
      "13            0.0       6.0             6B             NaN             NaN   \n",
      "14            0.0       1.0             9D             NaN             NaN   \n",
      "15            0.0       2.0             1D             NaN             NaN   \n",
      "16            0.0       3.0             1D             NaN             NaN   \n",
      "17            0.0       2.0             2D             NaN             NaN   \n",
      "18            0.0       1.0             8B             NaN             NaN   \n",
      "19            0.0       6.0             4C             NaN             NaN   \n",
      "20            0.0       2.0             5C             NaN             NaN   \n",
      "21            0.0       3.0             6B             NaN             NaN   \n",
      "22            0.0       6.0             4C             NaN             NaN   \n",
      "23            0.0       1.0             9C             NaN             NaN   \n",
      "24            0.0       6.0             5C             NaN             NaN   \n",
      "25            0.0       6.0             4A             NaN             NaN   \n",
      "26            0.0       7.0             4E             NaN             NaN   \n",
      "27            0.0       6.0             6C             NaN             NaN   \n",
      "28            0.0       6.0             8C             NaN             NaN   \n",
      "29            0.0       1.0             8A             NaN             NaN   \n",
      "...           ...       ...            ...             ...             ...   \n",
      "191622        0.0       6.0             6B               6              43   \n",
      "191623        0.0       7.0             2C               2              14   \n",
      "191624        0.0       4.0             7C               7              54   \n",
      "191625        0.0       4.0             3D               3              25   \n",
      "191626        0.0       1.0             4C               4              24   \n",
      "191627        0.0       6.0             8D               8              55   \n",
      "191628        0.0       6.0             4A               4              22   \n",
      "191629        0.0       2.0             9E               9              55   \n",
      "191630        0.0       4.0             8A               8              51   \n",
      "191631        0.0       2.0             6C               6              44   \n",
      "191632        0.0       6.0             2D               2              14   \n",
      "191633        0.0       4.0             2C               2              14   \n",
      "191634        0.0       7.0             5C               5              33   \n",
      "191635        0.0       6.0             6E               6              45   \n",
      "191636        1.0       3.0             5D               5              34   \n",
      "191637        0.0       6.0             3D               3              25   \n",
      "191638        0.0       6.0             9A               9              52   \n",
      "191639        0.0       6.0             4A               4              22   \n",
      "191640        0.0       6.0             1E               1              15   \n",
      "191641        0.0       6.0             2C               2              14   \n",
      "191642        0.0       1.0             8D               8              55   \n",
      "191643        0.0       5.0             1D               1              15   \n",
      "191644        0.0       7.0             8B               8              41   \n",
      "191645        0.0       2.0             6B               6              43   \n",
      "191646        0.0       1.0             1C               1              14   \n",
      "191647        0.0       1.0             1C               1              14   \n",
      "191648        0.0       6.0             5B               5              32   \n",
      "191649        0.0       7.0             4D               4              24   \n",
      "191650        0.0       3.0             4C               4              24   \n",
      "191651        0.0       3.0             5C               5              33   \n",
      "\n",
      "                ...           VERS_TYP  W_KEIT_KIND_HH  WOHNDAUER_2008  \\\n",
      "0               ...                1.0             6.0             9.0   \n",
      "1               ...                1.0             NaN             9.0   \n",
      "2               ...                2.0             6.0             9.0   \n",
      "3               ...                1.0             NaN             9.0   \n",
      "4               ...                2.0             2.0             9.0   \n",
      "5               ...                2.0             6.0             9.0   \n",
      "6               ...                1.0             6.0             9.0   \n",
      "7               ...                1.0             6.0             9.0   \n",
      "8               ...                2.0             6.0             3.0   \n",
      "9               ...                2.0             2.0             9.0   \n",
      "10              ...                1.0             NaN             3.0   \n",
      "11              ...                1.0             6.0             3.0   \n",
      "12              ...                1.0             4.0             9.0   \n",
      "13              ...                2.0             1.0             9.0   \n",
      "14              ...                2.0             6.0             7.0   \n",
      "15              ...                2.0             2.0             9.0   \n",
      "16              ...                1.0             1.0             9.0   \n",
      "17              ...                1.0             2.0             9.0   \n",
      "18              ...                2.0             5.0             9.0   \n",
      "19              ...                2.0             6.0             8.0   \n",
      "20              ...                1.0             6.0             9.0   \n",
      "21              ...                1.0             6.0             5.0   \n",
      "22              ...                2.0             6.0             9.0   \n",
      "23              ...                2.0             5.0             7.0   \n",
      "24              ...                1.0             2.0             9.0   \n",
      "25              ...                1.0             1.0             9.0   \n",
      "26              ...                2.0             4.0             9.0   \n",
      "27              ...                2.0             2.0             9.0   \n",
      "28              ...                2.0             6.0             9.0   \n",
      "29              ...                1.0             6.0             9.0   \n",
      "...             ...                ...             ...             ...   \n",
      "191622          ...                1.0             6.0             9.0   \n",
      "191623          ...                1.0             4.0             9.0   \n",
      "191624          ...                1.0             5.0             9.0   \n",
      "191625          ...                2.0             6.0             9.0   \n",
      "191626          ...                2.0             4.0             4.0   \n",
      "191627          ...                1.0             6.0             9.0   \n",
      "191628          ...                1.0             6.0             9.0   \n",
      "191629          ...                2.0             3.0             4.0   \n",
      "191630          ...                2.0             6.0             8.0   \n",
      "191631          ...                2.0             NaN             9.0   \n",
      "191632          ...                2.0             2.0             9.0   \n",
      "191633          ...                2.0             3.0             9.0   \n",
      "191634          ...                2.0             2.0             9.0   \n",
      "191635          ...                2.0             6.0             9.0   \n",
      "191636          ...                1.0             6.0             9.0   \n",
      "191637          ...                2.0             4.0             9.0   \n",
      "191638          ...                2.0             6.0             9.0   \n",
      "191639          ...                1.0             3.0             7.0   \n",
      "191640          ...                2.0             5.0             9.0   \n",
      "191641          ...                1.0             6.0             9.0   \n",
      "191642          ...                2.0             6.0             9.0   \n",
      "191643          ...                2.0             2.0             9.0   \n",
      "191644          ...                2.0             4.0             9.0   \n",
      "191645          ...                1.0             2.0             9.0   \n",
      "191646          ...                2.0             6.0             9.0   \n",
      "191647          ...                2.0             6.0             9.0   \n",
      "191648          ...                2.0             NaN             9.0   \n",
      "191649          ...                1.0             3.0             9.0   \n",
      "191650          ...                1.0             4.0             9.0   \n",
      "191651          ...                1.0             3.0             9.0   \n",
      "\n",
      "        WOHNLAGE  ZABEOTYP      PRODUCT_GROUP  CUSTOMER_GROUP  \\\n",
      "0            7.0       3.0  COSMETIC_AND_FOOD     MULTI_BUYER   \n",
      "1            NaN       3.0               FOOD    SINGLE_BUYER   \n",
      "2            2.0       3.0  COSMETIC_AND_FOOD     MULTI_BUYER   \n",
      "3            7.0       1.0           COSMETIC     MULTI_BUYER   \n",
      "4            3.0       1.0               FOOD     MULTI_BUYER   \n",
      "5            1.0       2.0  COSMETIC_AND_FOOD     MULTI_BUYER   \n",
      "6            7.0       1.0  COSMETIC_AND_FOOD     MULTI_BUYER   \n",
      "7            3.0       3.0               FOOD    SINGLE_BUYER   \n",
      "8            4.0       3.0           COSMETIC     MULTI_BUYER   \n",
      "9            5.0       1.0           COSMETIC     MULTI_BUYER   \n",
      "10           NaN       3.0           COSMETIC     MULTI_BUYER   \n",
      "11           4.0       1.0               FOOD    SINGLE_BUYER   \n",
      "12           7.0       1.0               FOOD    SINGLE_BUYER   \n",
      "13           4.0       4.0               FOOD    SINGLE_BUYER   \n",
      "14           3.0       4.0  COSMETIC_AND_FOOD     MULTI_BUYER   \n",
      "15           2.0       1.0  COSMETIC_AND_FOOD     MULTI_BUYER   \n",
      "16           2.0       1.0           COSMETIC    SINGLE_BUYER   \n",
      "17           2.0       1.0           COSMETIC     MULTI_BUYER   \n",
      "18           3.0       4.0           COSMETIC    SINGLE_BUYER   \n",
      "19           3.0       3.0               FOOD    SINGLE_BUYER   \n",
      "20           2.0       1.0               FOOD    SINGLE_BUYER   \n",
      "21           7.0       4.0               FOOD    SINGLE_BUYER   \n",
      "22           7.0       3.0               FOOD    SINGLE_BUYER   \n",
      "23           4.0       6.0           COSMETIC    SINGLE_BUYER   \n",
      "24           3.0       3.0  COSMETIC_AND_FOOD     MULTI_BUYER   \n",
      "25           7.0       1.0  COSMETIC_AND_FOOD     MULTI_BUYER   \n",
      "26           7.0       3.0           COSMETIC     MULTI_BUYER   \n",
      "27           1.0       1.0           COSMETIC    SINGLE_BUYER   \n",
      "28           5.0       3.0           COSMETIC     MULTI_BUYER   \n",
      "29           3.0       3.0               FOOD    SINGLE_BUYER   \n",
      "...          ...       ...                ...             ...   \n",
      "191622       7.0       3.0  COSMETIC_AND_FOOD     MULTI_BUYER   \n",
      "191623       1.0       1.0  COSMETIC_AND_FOOD     MULTI_BUYER   \n",
      "191624       1.0       1.0           COSMETIC     MULTI_BUYER   \n",
      "191625       3.0       3.0               FOOD    SINGLE_BUYER   \n",
      "191626       2.0       4.0  COSMETIC_AND_FOOD     MULTI_BUYER   \n",
      "191627       4.0       3.0  COSMETIC_AND_FOOD     MULTI_BUYER   \n",
      "191628       1.0       3.0           COSMETIC    SINGLE_BUYER   \n",
      "191629       2.0       3.0           COSMETIC     MULTI_BUYER   \n",
      "191630       3.0       3.0           COSMETIC    SINGLE_BUYER   \n",
      "191631       3.0       3.0  COSMETIC_AND_FOOD     MULTI_BUYER   \n",
      "191632       7.0       1.0               FOOD    SINGLE_BUYER   \n",
      "191633       3.0       1.0               FOOD    SINGLE_BUYER   \n",
      "191634       7.0       3.0  COSMETIC_AND_FOOD     MULTI_BUYER   \n",
      "191635       3.0       3.0  COSMETIC_AND_FOOD     MULTI_BUYER   \n",
      "191636       1.0       2.0  COSMETIC_AND_FOOD     MULTI_BUYER   \n",
      "191637       3.0       1.0               FOOD    SINGLE_BUYER   \n",
      "191638       3.0       3.0  COSMETIC_AND_FOOD     MULTI_BUYER   \n",
      "191639       5.0       1.0  COSMETIC_AND_FOOD     MULTI_BUYER   \n",
      "191640       2.0       1.0           COSMETIC    SINGLE_BUYER   \n",
      "191641       7.0       1.0  COSMETIC_AND_FOOD     MULTI_BUYER   \n",
      "191642       5.0       3.0               FOOD    SINGLE_BUYER   \n",
      "191643       1.0       1.0  COSMETIC_AND_FOOD     MULTI_BUYER   \n",
      "191644       3.0       3.0  COSMETIC_AND_FOOD     MULTI_BUYER   \n",
      "191645       4.0       6.0  COSMETIC_AND_FOOD     MULTI_BUYER   \n",
      "191646       4.0       3.0               FOOD    SINGLE_BUYER   \n",
      "191647       1.0       3.0  COSMETIC_AND_FOOD     MULTI_BUYER   \n",
      "191648       3.0       3.0           COSMETIC    SINGLE_BUYER   \n",
      "191649       3.0       3.0  COSMETIC_AND_FOOD     MULTI_BUYER   \n",
      "191650       2.0       3.0               FOOD    SINGLE_BUYER   \n",
      "191651       7.0       1.0  COSMETIC_AND_FOOD     MULTI_BUYER   \n",
      "\n",
      "        ONLINE_PURCHASE  ANREDE_KZ  ALTERSKATEGORIE_GROB  \n",
      "0                     0        1.0                   4.0  \n",
      "1                     0        1.0                   4.0  \n",
      "2                     0        2.0                   4.0  \n",
      "3                     0        1.0                   4.0  \n",
      "4                     0        1.0                   3.0  \n",
      "5                     0        1.0                   3.0  \n",
      "6                     0        1.0                   4.0  \n",
      "7                     0        1.0                   4.0  \n",
      "8                     0        2.0                   4.0  \n",
      "9                     0        1.0                   3.0  \n",
      "10                    1        2.0                   3.0  \n",
      "11                    0        1.0                   4.0  \n",
      "12                    0        1.0                   4.0  \n",
      "13                    1        1.0                   3.0  \n",
      "14                    0        2.0                   4.0  \n",
      "15                    1        1.0                   3.0  \n",
      "16                    0        1.0                   4.0  \n",
      "17                    0        1.0                   4.0  \n",
      "18                    1        1.0                   2.0  \n",
      "19                    0        2.0                   4.0  \n",
      "20                    0        1.0                   4.0  \n",
      "21                    0        1.0                   4.0  \n",
      "22                    0        2.0                   1.0  \n",
      "23                    1        1.0                   3.0  \n",
      "24                    0        2.0                   4.0  \n",
      "25                    0        2.0                   3.0  \n",
      "26                    0        2.0                   4.0  \n",
      "27                    0        1.0                   3.0  \n",
      "28                    0        2.0                   4.0  \n",
      "29                    0        2.0                   3.0  \n",
      "...                 ...        ...                   ...  \n",
      "191622                0        1.0                   4.0  \n",
      "191623                0        1.0                   4.0  \n",
      "191624                0        1.0                   4.0  \n",
      "191625                0        2.0                   4.0  \n",
      "191626                0        1.0                   2.0  \n",
      "191627                0        2.0                   3.0  \n",
      "191628                0        1.0                   4.0  \n",
      "191629                0        2.0                   4.0  \n",
      "191630                0        1.0                   3.0  \n",
      "191631                0        2.0                   4.0  \n",
      "191632                0        1.0                   3.0  \n",
      "191633                0        1.0                   4.0  \n",
      "191634                1        1.0                   3.0  \n",
      "191635                0        2.0                   4.0  \n",
      "191636                0        1.0                   4.0  \n",
      "191637                0        2.0                   3.0  \n",
      "191638                0        1.0                   4.0  \n",
      "191639                0        1.0                   3.0  \n",
      "191640                0        1.0                   3.0  \n",
      "191641                0        1.0                   4.0  \n",
      "191642                0        2.0                   4.0  \n",
      "191643                0        1.0                   4.0  \n",
      "191644                1        2.0                   4.0  \n",
      "191645                1        1.0                   4.0  \n",
      "191646                0        2.0                   2.0  \n",
      "191647                0        1.0                   3.0  \n",
      "191648                0        2.0                   4.0  \n",
      "191649                0        1.0                   4.0  \n",
      "191650                0        2.0                   3.0  \n",
      "191651                0        1.0                   2.0  \n",
      "\n",
      "[191652 rows x 276 columns]>\n"
     ]
    }
   ],
   "source": [
    "def fill_unknown_values(df):\n",
    "    MISSING_COLUMN = set(COLUMN_LABELS.keys()) - set(df.columns)\n",
    "    for column_name in COLUMN_LABELS:\n",
    "        if column_name in MISSING_COLUMN:\n",
    "            continue\n",
    "        if column_name in INTEGER_LABELS_COLUMN:\n",
    "            continue\n",
    "        nan_mask = ~df[column_name].isin(COLUMN_LABELS[column_name])\n",
    "        if column_name in COLUMN_UNKNOWN_VALUE:\n",
    "            nan_mask |= df[column_name].isin(COLUMN_UNKNOWN_VALUE[column_name])\n",
    "        df.loc[nan_mask, column_name] = np.nan\n",
    "\n",
    "    # special handling\n",
    "    df.loc[df[\"GEBURTSJAHR\"] == 0, \"GEBURTSJAHR\"] = np.nan\n",
    "\n",
    "print(azdias.head())    \n",
    "fill_unknown_values(azdias)\n",
    "print(azdias.head())\n",
    "\n",
    "print(customers.head)    \n",
    "fill_unknown_values(customers)\n",
    "print(customers.head)"
   ]
  },
  {
   "cell_type": "markdown",
   "metadata": {},
   "source": [
    "##### d) Handle numerica strings"
   ]
  },
  {
   "cell_type": "code",
   "execution_count": 7,
   "metadata": {},
   "outputs": [],
   "source": [
    "def convert_str_to_int(df, column):\n",
    "    df[column] = pd.to_numeric(df[column], errors='coerce')\n",
    "\n",
    "convert_str_to_int(azdias, \"CAMEO_DEUG_2015\")\n",
    "convert_str_to_int(azdias, \"CAMEO_INTL_2015\")\n",
    "convert_str_to_int(customers, \"CAMEO_DEUG_2015\")\n",
    "convert_str_to_int(customers, \"CAMEO_INTL_2015\")"
   ]
  },
  {
   "cell_type": "markdown",
   "metadata": {},
   "source": [
    "##### e) Check the percetage of NaN values in each column\n",
    "The majority of NaN is less than 0.15% and at most 0.40% of total features in both of dataset, so it would not have significant impact on the results. "
   ]
  },
  {
   "cell_type": "code",
   "execution_count": 8,
   "metadata": {},
   "outputs": [
    {
     "data": {
      "text/plain": [
       "Text(0.5,1,'Histogram')"
      ]
     },
     "execution_count": 8,
     "metadata": {},
     "output_type": "execute_result"
    },
    {
     "data": {
      "image/png": "[encoded data removed]",
      "text/plain": [
       "<Figure size 432x288 with 1 Axes>"
      ]
     },
     "metadata": {
      "needs_background": "light"
     },
     "output_type": "display_data"
    }
   ],
   "source": [
    "azdias_nan_counter = {column_name: np.sum(azdias[column_name].isna()) for column_name in azdias.columns}\n",
    "customers_nan_counter = {column_name: np.sum(customers[column_name].isna()) for column_name in customers.columns}\n",
    "#print([c for c in customers_nan_counter if customers_nan_counter[c] > 0])\n",
    "azdias_normalized = [100.0*v/float(azdias.size) for v in azdias_nan_counter.values()]\n",
    "customers_normalized = [100.0*v/float(customers.size) for v in customers_nan_counter.values()]\n",
    "\n",
    "plt.hist([azdias_normalized, customers_normalized], bins = 25, label=[\"azdias\", \"customers\"])\n",
    "\n",
    "# Plot formatting\n",
    "plt.legend()\n",
    "plt.xlabel('Percentage of NaN in column (%)')\n",
    "plt.ylabel('Number of columns')\n",
    "plt.title('Histogram')"
   ]
  },
  {
   "cell_type": "markdown",
   "metadata": {},
   "source": [
    "#### Data Cleaning - Handling catagorized values"
   ]
  },
  {
   "cell_type": "code",
   "execution_count": 9,
   "metadata": {},
   "outputs": [
    {
     "name": "stdout",
     "output_type": "stream",
     "text": [
      "[0, 1]\n",
      "[0, 1]\n"
     ]
    }
   ],
   "source": [
    "def convert_biclass_to_int(df, column):\n",
    "    nan_mask = df[column].notna()\n",
    "    df.loc[nan_mask, column] = df[column][nan_mask].astype('category').cat.codes\n",
    "\n",
    "convert_biclass_to_int(azdias, \"OST_WEST_KZ\")\n",
    "convert_biclass_to_int(customers, \"OST_WEST_KZ\")\n",
    "print(azdias.groupby(\"OST_WEST_KZ\").groups.keys())\n",
    "print(customers.groupby(\"OST_WEST_KZ\").groups.keys())"
   ]
  },
  {
   "cell_type": "code",
   "execution_count": 10,
   "metadata": {},
   "outputs": [
    {
     "name": "stdout",
     "output_type": "stream",
     "text": [
      "Index([u'AGER_TYP', u'ALTER_HH', u'ANZ_HAUSHALTE_AKTIV', u'ANZ_HH_TITEL',\n",
      "       u'ANZ_PERSONEN', u'ANZ_TITEL', u'BALLRAUM', u'CAMEO_DEU_2015',\n",
      "       u'CAMEO_DEUG_2015', u'CAMEO_INTL_2015',\n",
      "       ...\n",
      "       u'SEMIO_VERT', u'SHOPPER_TYP', u'TITEL_KZ', u'VERS_TYP',\n",
      "       u'W_KEIT_KIND_HH', u'WOHNDAUER_2008', u'WOHNLAGE', u'ZABEOTYP',\n",
      "       u'ANREDE_KZ', u'ALTERSKATEGORIE_GROB'],\n",
      "      dtype='object', length=273)\n",
      "Index([u'AGER_TYP', u'ALTER_HH', u'ANZ_HAUSHALTE_AKTIV', u'ANZ_HH_TITEL',\n",
      "       u'ANZ_PERSONEN', u'ANZ_TITEL', u'BALLRAUM', u'CAMEO_DEUG_2015',\n",
      "       u'CAMEO_INTL_2015', u'CJT_GESAMTTYP',\n",
      "       ...\n",
      "       u'CAMEO_DEU_2015_8A', u'CAMEO_DEU_2015_8B', u'CAMEO_DEU_2015_8C',\n",
      "       u'CAMEO_DEU_2015_8D', u'CAMEO_DEU_2015_9A', u'CAMEO_DEU_2015_9B',\n",
      "       u'CAMEO_DEU_2015_9C', u'CAMEO_DEU_2015_9D', u'CAMEO_DEU_2015_9E',\n",
      "       u'CAMEO_DEU_2015_nan'],\n",
      "      dtype='object', length=317)\n",
      "Index([u'AGER_TYP', u'ALTER_HH', u'ANZ_HAUSHALTE_AKTIV', u'ANZ_HH_TITEL',\n",
      "       u'ANZ_PERSONEN', u'ANZ_TITEL', u'BALLRAUM', u'CAMEO_DEU_2015',\n",
      "       u'CAMEO_DEUG_2015', u'CAMEO_INTL_2015',\n",
      "       ...\n",
      "       u'VERS_TYP', u'W_KEIT_KIND_HH', u'WOHNDAUER_2008', u'WOHNLAGE',\n",
      "       u'ZABEOTYP', u'PRODUCT_GROUP', u'CUSTOMER_GROUP', u'ONLINE_PURCHASE',\n",
      "       u'ANREDE_KZ', u'ALTERSKATEGORIE_GROB'],\n",
      "      dtype='object', length=276)\n",
      "Index([u'AGER_TYP', u'ALTER_HH', u'ANZ_HAUSHALTE_AKTIV', u'ANZ_HH_TITEL',\n",
      "       u'ANZ_PERSONEN', u'ANZ_TITEL', u'BALLRAUM', u'CAMEO_DEUG_2015',\n",
      "       u'CAMEO_INTL_2015', u'CJT_GESAMTTYP',\n",
      "       ...\n",
      "       u'CAMEO_DEU_2015_8A', u'CAMEO_DEU_2015_8B', u'CAMEO_DEU_2015_8C',\n",
      "       u'CAMEO_DEU_2015_8D', u'CAMEO_DEU_2015_9A', u'CAMEO_DEU_2015_9B',\n",
      "       u'CAMEO_DEU_2015_9C', u'CAMEO_DEU_2015_9D', u'CAMEO_DEU_2015_9E',\n",
      "       u'CAMEO_DEU_2015_nan'],\n",
      "      dtype='object', length=320)\n"
     ]
    }
   ],
   "source": [
    "def convert_categories_to_onehot(df, column):\n",
    "    nan_mask = df[column].notna()\n",
    "    df.loc[nan_mask, column] = df[column][nan_mask].astype('category')\n",
    "    onehot = pd.get_dummies(df[column], prefix=column, dummy_na=True)\n",
    "    print(df.columns)\n",
    "    df = pd.concat([df, onehot], axis=1)\n",
    "    df = df.drop(columns=[column])\n",
    "    print(df.columns)\n",
    "    return df\n",
    "#pd.get_dummies(azdias[\"CAMEO_DEU_2015\"], prefix=\"CAMEO_DEU_2015\", dummy_na=True)\n",
    "azdias = convert_categories_to_onehot(azdias, \"CAMEO_DEU_2015\")\n",
    "customers = convert_categories_to_onehot(customers, \"CAMEO_DEU_2015\")"
   ]
  },
  {
   "cell_type": "code",
   "execution_count": 11,
   "metadata": {},
   "outputs": [
    {
     "data": {
      "text/plain": [
       "[0, 1]"
      ]
     },
     "execution_count": 11,
     "metadata": {},
     "output_type": "execute_result"
    }
   ],
   "source": [
    "def print_groups(df):\n",
    "    for column_name in df.columns:\n",
    "        keys = df.groupby(column_name).groups.keys()\n",
    "        if set(keys) <= set(range(25)):\n",
    "            continue\n",
    "        print(\"***** {} *****\".format(column_name))\n",
    "        print(keys)\n",
    "\n",
    "#print_groups(customers)\n",
    "customers.groupby(\"ONLINE_PURCHASE\").groups.keys()"
   ]
  },
  {
   "cell_type": "markdown",
   "metadata": {},
   "source": [
    "#### Data Cleaning - Use mean instead of `Nan`"
   ]
  },
  {
   "cell_type": "code",
   "execution_count": 12,
   "metadata": {},
   "outputs": [
    {
     "name": "stdout",
     "output_type": "stream",
     "text": [
      "[]\n",
      "[]\n"
     ]
    }
   ],
   "source": [
    "columns = list(customers.columns)\n",
    "columns.remove(\"CUSTOMER_GROUP\")\n",
    "columns.remove(\"ONLINE_PURCHASE\")\n",
    "columns.remove(\"PRODUCT_GROUP\")\n",
    "\n",
    "for c in columns:\n",
    "    customers[c].fillna(customers[c].mean(), inplace=True)\n",
    "    azdias[c].fillna(azdias[c].mean(), inplace=True)\n",
    "print([col for col in customers.columns if np.sum(customers[col].isna()) > 0])\n",
    "print([col for col in azdias.columns if np.sum(azdias[col].isna()) > 0])\n"
   ]
  },
  {
   "cell_type": "code",
   "execution_count": null,
   "metadata": {},
   "outputs": [],
   "source": []
  },
  {
   "cell_type": "markdown",
   "metadata": {},
   "source": [
    "## Part 1: Customer Segmentation Report\n",
    "\n",
    "The main bulk of your analysis will come in this part of the project. Here, you should use unsupervised learning techniques to describe the relationship between the demographics of the company's existing customers and the general population of Germany. By the end of this part, you should be able to describe parts of the general population that are more likely to be part of the mail-order company's main customer base, and which parts of the general population are less so."
   ]
  },
  {
   "cell_type": "markdown",
   "metadata": {},
   "source": [
    "### 1. Normalize data"
   ]
  },
  {
   "cell_type": "code",
   "execution_count": 13,
   "metadata": {},
   "outputs": [
    {
     "data": {
      "text/html": [
       "<div>\n",
       "<style scoped>\n",
       "    .dataframe tbody tr th:only-of-type {\n",
       "        vertical-align: middle;\n",
       "    }\n",
       "\n",
       "    .dataframe tbody tr th {\n",
       "        vertical-align: top;\n",
       "    }\n",
       "\n",
       "    .dataframe thead th {\n",
       "        text-align: right;\n",
       "    }\n",
       "</style>\n",
       "<table border=\"1\" class=\"dataframe\">\n",
       "  <thead>\n",
       "    <tr style=\"text-align: right;\">\n",
       "      <th></th>\n",
       "      <th>AGER_TYP</th>\n",
       "      <th>ALTER_HH</th>\n",
       "      <th>ANZ_HAUSHALTE_AKTIV</th>\n",
       "      <th>ANZ_HH_TITEL</th>\n",
       "      <th>ANZ_PERSONEN</th>\n",
       "      <th>ANZ_TITEL</th>\n",
       "      <th>BALLRAUM</th>\n",
       "      <th>CAMEO_DEUG_2015</th>\n",
       "      <th>CAMEO_INTL_2015</th>\n",
       "      <th>CJT_GESAMTTYP</th>\n",
       "      <th>...</th>\n",
       "      <th>CAMEO_DEU_2015_8A</th>\n",
       "      <th>CAMEO_DEU_2015_8B</th>\n",
       "      <th>CAMEO_DEU_2015_8C</th>\n",
       "      <th>CAMEO_DEU_2015_8D</th>\n",
       "      <th>CAMEO_DEU_2015_9A</th>\n",
       "      <th>CAMEO_DEU_2015_9B</th>\n",
       "      <th>CAMEO_DEU_2015_9C</th>\n",
       "      <th>CAMEO_DEU_2015_9D</th>\n",
       "      <th>CAMEO_DEU_2015_9E</th>\n",
       "      <th>CAMEO_DEU_2015_nan</th>\n",
       "    </tr>\n",
       "  </thead>\n",
       "  <tbody>\n",
       "    <tr>\n",
       "      <th>count</th>\n",
       "      <td>8.912210e+05</td>\n",
       "      <td>8.912210e+05</td>\n",
       "      <td>8.912210e+05</td>\n",
       "      <td>8.912210e+05</td>\n",
       "      <td>8.912210e+05</td>\n",
       "      <td>8.912210e+05</td>\n",
       "      <td>8.912210e+05</td>\n",
       "      <td>8.912210e+05</td>\n",
       "      <td>8.912210e+05</td>\n",
       "      <td>8.912210e+05</td>\n",
       "      <td>...</td>\n",
       "      <td>8.912210e+05</td>\n",
       "      <td>8.912210e+05</td>\n",
       "      <td>8.912210e+05</td>\n",
       "      <td>8.912210e+05</td>\n",
       "      <td>8.912210e+05</td>\n",
       "      <td>8.912210e+05</td>\n",
       "      <td>8.912210e+05</td>\n",
       "      <td>8.912210e+05</td>\n",
       "      <td>8.912210e+05</td>\n",
       "      <td>8.912210e+05</td>\n",
       "    </tr>\n",
       "    <tr>\n",
       "      <th>mean</th>\n",
       "      <td>4.367209e-11</td>\n",
       "      <td>1.791743e-12</td>\n",
       "      <td>9.119123e-13</td>\n",
       "      <td>1.041083e-13</td>\n",
       "      <td>-1.766095e-12</td>\n",
       "      <td>4.724682e-14</td>\n",
       "      <td>4.465947e-12</td>\n",
       "      <td>-1.461282e-11</td>\n",
       "      <td>2.315914e-11</td>\n",
       "      <td>8.282684e-14</td>\n",
       "      <td>...</td>\n",
       "      <td>-6.744536e-15</td>\n",
       "      <td>-5.192500e-15</td>\n",
       "      <td>1.450934e-14</td>\n",
       "      <td>-1.472393e-14</td>\n",
       "      <td>7.901209e-15</td>\n",
       "      <td>8.664223e-15</td>\n",
       "      <td>1.152356e-15</td>\n",
       "      <td>-5.791366e-16</td>\n",
       "      <td>5.594765e-15</td>\n",
       "      <td>4.618429e-15</td>\n",
       "    </tr>\n",
       "    <tr>\n",
       "      <th>std</th>\n",
       "      <td>1.000000e+00</td>\n",
       "      <td>1.000000e+00</td>\n",
       "      <td>1.000000e+00</td>\n",
       "      <td>1.000000e+00</td>\n",
       "      <td>1.000000e+00</td>\n",
       "      <td>1.000000e+00</td>\n",
       "      <td>1.000000e+00</td>\n",
       "      <td>1.000000e+00</td>\n",
       "      <td>1.000000e+00</td>\n",
       "      <td>1.000000e+00</td>\n",
       "      <td>...</td>\n",
       "      <td>1.000000e+00</td>\n",
       "      <td>1.000000e+00</td>\n",
       "      <td>1.000000e+00</td>\n",
       "      <td>1.000000e+00</td>\n",
       "      <td>1.000000e+00</td>\n",
       "      <td>1.000000e+00</td>\n",
       "      <td>1.000000e+00</td>\n",
       "      <td>1.000000e+00</td>\n",
       "      <td>1.000000e+00</td>\n",
       "      <td>1.000000e+00</td>\n",
       "    </tr>\n",
       "    <tr>\n",
       "      <th>min</th>\n",
       "      <td>-4.609299e+00</td>\n",
       "      <td>-1.484600e+00</td>\n",
       "      <td>-5.603724e-01</td>\n",
       "      <td>-1.328815e-01</td>\n",
       "      <td>-1.560419e+00</td>\n",
       "      <td>-6.309717e-02</td>\n",
       "      <td>-1.526397e+00</td>\n",
       "      <td>-2.538678e+00</td>\n",
       "      <td>-2.332596e+00</td>\n",
       "      <td>-1.655174e+00</td>\n",
       "      <td>...</td>\n",
       "      <td>-2.500334e-01</td>\n",
       "      <td>-1.974259e-01</td>\n",
       "      <td>-1.898125e-01</td>\n",
       "      <td>-1.418379e-01</td>\n",
       "      <td>-1.536003e-01</td>\n",
       "      <td>-1.790230e-01</td>\n",
       "      <td>-1.698397e-01</td>\n",
       "      <td>-1.820614e-01</td>\n",
       "      <td>-8.490694e-02</td>\n",
       "      <td>-3.542105e-01</td>\n",
       "    </tr>\n",
       "    <tr>\n",
       "      <th>25%</th>\n",
       "      <td>4.368045e-11</td>\n",
       "      <td>-1.484600e+00</td>\n",
       "      <td>-4.251354e-01</td>\n",
       "      <td>-1.328815e-01</td>\n",
       "      <td>-6.572091e-01</td>\n",
       "      <td>-6.309717e-02</td>\n",
       "      <td>-1.042294e+00</td>\n",
       "      <td>-1.461238e-11</td>\n",
       "      <td>2.314855e-11</td>\n",
       "      <td>-1.026509e+00</td>\n",
       "      <td>...</td>\n",
       "      <td>-2.500334e-01</td>\n",
       "      <td>-1.974259e-01</td>\n",
       "      <td>-1.898125e-01</td>\n",
       "      <td>-1.418379e-01</td>\n",
       "      <td>-1.536003e-01</td>\n",
       "      <td>-1.790230e-01</td>\n",
       "      <td>-1.698397e-01</td>\n",
       "      <td>-1.820614e-01</td>\n",
       "      <td>-8.490694e-02</td>\n",
       "      <td>-3.542105e-01</td>\n",
       "    </tr>\n",
       "    <tr>\n",
       "      <th>50%</th>\n",
       "      <td>4.368045e-11</td>\n",
       "      <td>1.552189e-01</td>\n",
       "      <td>-2.222798e-01</td>\n",
       "      <td>-1.328815e-01</td>\n",
       "      <td>-6.572091e-01</td>\n",
       "      <td>-6.309717e-02</td>\n",
       "      <td>4.466095e-12</td>\n",
       "      <td>-1.461238e-11</td>\n",
       "      <td>2.314855e-11</td>\n",
       "      <td>2.308218e-01</td>\n",
       "      <td>...</td>\n",
       "      <td>-2.500334e-01</td>\n",
       "      <td>-1.974259e-01</td>\n",
       "      <td>-1.898125e-01</td>\n",
       "      <td>-1.418379e-01</td>\n",
       "      <td>-1.536003e-01</td>\n",
       "      <td>-1.790230e-01</td>\n",
       "      <td>-1.698397e-01</td>\n",
       "      <td>-1.820614e-01</td>\n",
       "      <td>-8.490694e-02</td>\n",
       "      <td>-3.542105e-01</td>\n",
       "    </tr>\n",
       "    <tr>\n",
       "      <th>75%</th>\n",
       "      <td>4.368045e-11</td>\n",
       "      <td>8.384766e-01</td>\n",
       "      <td>4.819420e-02</td>\n",
       "      <td>-1.328815e-01</td>\n",
       "      <td>2.460007e-01</td>\n",
       "      <td>-6.309717e-02</td>\n",
       "      <td>8.941170e-01</td>\n",
       "      <td>2.597703e-01</td>\n",
       "      <td>5.481003e-01</td>\n",
       "      <td>8.594871e-01</td>\n",
       "      <td>...</td>\n",
       "      <td>-2.500334e-01</td>\n",
       "      <td>-1.974259e-01</td>\n",
       "      <td>-1.898125e-01</td>\n",
       "      <td>-1.418379e-01</td>\n",
       "      <td>-1.536003e-01</td>\n",
       "      <td>-1.790230e-01</td>\n",
       "      <td>-1.698397e-01</td>\n",
       "      <td>-1.820614e-01</td>\n",
       "      <td>-8.490694e-02</td>\n",
       "      <td>-3.542105e-01</td>\n",
       "    </tr>\n",
       "    <tr>\n",
       "      <th>max</th>\n",
       "      <td>3.644310e+00</td>\n",
       "      <td>1.385083e+00</td>\n",
       "      <td>3.967264e+01</td>\n",
       "      <td>7.505865e+01</td>\n",
       "      <td>3.908402e+01</td>\n",
       "      <td>9.090830e+01</td>\n",
       "      <td>1.378220e+00</td>\n",
       "      <td>1.938839e+00</td>\n",
       "      <td>1.938781e+00</td>\n",
       "      <td>1.488152e+00</td>\n",
       "      <td>...</td>\n",
       "      <td>3.999461e+00</td>\n",
       "      <td>5.065185e+00</td>\n",
       "      <td>5.268351e+00</td>\n",
       "      <td>7.050294e+00</td>\n",
       "      <td>6.510396e+00</td>\n",
       "      <td>5.585867e+00</td>\n",
       "      <td>5.887898e+00</td>\n",
       "      <td>5.492647e+00</td>\n",
       "      <td>1.177759e+01</td>\n",
       "      <td>2.823177e+00</td>\n",
       "    </tr>\n",
       "  </tbody>\n",
       "</table>\n",
       "<p>8 rows × 317 columns</p>\n",
       "</div>"
      ],
      "text/plain": [
       "           AGER_TYP      ALTER_HH  ANZ_HAUSHALTE_AKTIV  ANZ_HH_TITEL  \\\n",
       "count  8.912210e+05  8.912210e+05         8.912210e+05  8.912210e+05   \n",
       "mean   4.367209e-11  1.791743e-12         9.119123e-13  1.041083e-13   \n",
       "std    1.000000e+00  1.000000e+00         1.000000e+00  1.000000e+00   \n",
       "min   -4.609299e+00 -1.484600e+00        -5.603724e-01 -1.328815e-01   \n",
       "25%    4.368045e-11 -1.484600e+00        -4.251354e-01 -1.328815e-01   \n",
       "50%    4.368045e-11  1.552189e-01        -2.222798e-01 -1.328815e-01   \n",
       "75%    4.368045e-11  8.384766e-01         4.819420e-02 -1.328815e-01   \n",
       "max    3.644310e+00  1.385083e+00         3.967264e+01  7.505865e+01   \n",
       "\n",
       "       ANZ_PERSONEN     ANZ_TITEL      BALLRAUM  CAMEO_DEUG_2015  \\\n",
       "count  8.912210e+05  8.912210e+05  8.912210e+05     8.912210e+05   \n",
       "mean  -1.766095e-12  4.724682e-14  4.465947e-12    -1.461282e-11   \n",
       "std    1.000000e+00  1.000000e+00  1.000000e+00     1.000000e+00   \n",
       "min   -1.560419e+00 -6.309717e-02 -1.526397e+00    -2.538678e+00   \n",
       "25%   -6.572091e-01 -6.309717e-02 -1.042294e+00    -1.461238e-11   \n",
       "50%   -6.572091e-01 -6.309717e-02  4.466095e-12    -1.461238e-11   \n",
       "75%    2.460007e-01 -6.309717e-02  8.941170e-01     2.597703e-01   \n",
       "max    3.908402e+01  9.090830e+01  1.378220e+00     1.938839e+00   \n",
       "\n",
       "       CAMEO_INTL_2015  CJT_GESAMTTYP         ...          CAMEO_DEU_2015_8A  \\\n",
       "count     8.912210e+05   8.912210e+05         ...               8.912210e+05   \n",
       "mean      2.315914e-11   8.282684e-14         ...              -6.744536e-15   \n",
       "std       1.000000e+00   1.000000e+00         ...               1.000000e+00   \n",
       "min      -2.332596e+00  -1.655174e+00         ...              -2.500334e-01   \n",
       "25%       2.314855e-11  -1.026509e+00         ...              -2.500334e-01   \n",
       "50%       2.314855e-11   2.308218e-01         ...              -2.500334e-01   \n",
       "75%       5.481003e-01   8.594871e-01         ...              -2.500334e-01   \n",
       "max       1.938781e+00   1.488152e+00         ...               3.999461e+00   \n",
       "\n",
       "       CAMEO_DEU_2015_8B  CAMEO_DEU_2015_8C  CAMEO_DEU_2015_8D  \\\n",
       "count       8.912210e+05       8.912210e+05       8.912210e+05   \n",
       "mean       -5.192500e-15       1.450934e-14      -1.472393e-14   \n",
       "std         1.000000e+00       1.000000e+00       1.000000e+00   \n",
       "min        -1.974259e-01      -1.898125e-01      -1.418379e-01   \n",
       "25%        -1.974259e-01      -1.898125e-01      -1.418379e-01   \n",
       "50%        -1.974259e-01      -1.898125e-01      -1.418379e-01   \n",
       "75%        -1.974259e-01      -1.898125e-01      -1.418379e-01   \n",
       "max         5.065185e+00       5.268351e+00       7.050294e+00   \n",
       "\n",
       "       CAMEO_DEU_2015_9A  CAMEO_DEU_2015_9B  CAMEO_DEU_2015_9C  \\\n",
       "count       8.912210e+05       8.912210e+05       8.912210e+05   \n",
       "mean        7.901209e-15       8.664223e-15       1.152356e-15   \n",
       "std         1.000000e+00       1.000000e+00       1.000000e+00   \n",
       "min        -1.536003e-01      -1.790230e-01      -1.698397e-01   \n",
       "25%        -1.536003e-01      -1.790230e-01      -1.698397e-01   \n",
       "50%        -1.536003e-01      -1.790230e-01      -1.698397e-01   \n",
       "75%        -1.536003e-01      -1.790230e-01      -1.698397e-01   \n",
       "max         6.510396e+00       5.585867e+00       5.887898e+00   \n",
       "\n",
       "       CAMEO_DEU_2015_9D  CAMEO_DEU_2015_9E  CAMEO_DEU_2015_nan  \n",
       "count       8.912210e+05       8.912210e+05        8.912210e+05  \n",
       "mean       -5.791366e-16       5.594765e-15        4.618429e-15  \n",
       "std         1.000000e+00       1.000000e+00        1.000000e+00  \n",
       "min        -1.820614e-01      -8.490694e-02       -3.542105e-01  \n",
       "25%        -1.820614e-01      -8.490694e-02       -3.542105e-01  \n",
       "50%        -1.820614e-01      -8.490694e-02       -3.542105e-01  \n",
       "75%        -1.820614e-01      -8.490694e-02       -3.542105e-01  \n",
       "max         5.492647e+00       1.177759e+01        2.823177e+00  \n",
       "\n",
       "[8 rows x 317 columns]"
      ]
     },
     "execution_count": 13,
     "metadata": {},
     "output_type": "execute_result"
    }
   ],
   "source": [
    "mean_azdias = azdias.mean()\n",
    "std_azdias = azdias.std()\n",
    "normalized_azdias = (azdias - mean_azdias)/std_azdias\n",
    "normalized_azdias.describe()"
   ]
  },
  {
   "cell_type": "markdown",
   "metadata": {},
   "source": [
    "### 2. PCA"
   ]
  },
  {
   "cell_type": "code",
   "execution_count": 14,
   "metadata": {},
   "outputs": [
    {
     "data": {
      "text/plain": [
       "[<matplotlib.lines.Line2D at 0x1a23b493d0>]"
      ]
     },
     "execution_count": 14,
     "metadata": {},
     "output_type": "execute_result"
    },
    {
     "data": {
      "image/png": "[encoded data removed]",
      "text/plain": [
       "<Figure size 432x288 with 1 Axes>"
      ]
     },
     "metadata": {
      "needs_background": "light"
     },
     "output_type": "display_data"
    }
   ],
   "source": [
    "from sklearn.decomposition import PCA\n",
    "pca = PCA()\n",
    "azdias_rotated = pca.fit_transform(normalized_azdias)\n",
    "explained_variance_by_k = pca.explained_variance_ratio_.cumsum()\n",
    "plt.plot(range(1,len(explained_variance_by_k)+1),explained_variance_by_k,marker=\"*\")"
   ]
  },
  {
   "cell_type": "markdown",
   "metadata": {},
   "source": [
    "The first 220 componants accommodate 90% of energy. However, there is no significant transition in the energy. So we can use the entire feature sets for now."
   ]
  },
  {
   "cell_type": "markdown",
   "metadata": {},
   "source": [
    "### 3. K-Means Clustering"
   ]
  },
  {
   "cell_type": "markdown",
   "metadata": {},
   "source": [
    "#### The elbow is around 200 clusters."
   ]
  },
  {
   "cell_type": "code",
   "execution_count": 15,
   "metadata": {},
   "outputs": [
    {
     "name": "stdout",
     "output_type": "stream",
     "text": [
      "(891221, 317)\n",
      "**** 120 ****\n",
      "**** 125 ****\n",
      "**** 130 ****\n",
      "**** 135 ****\n",
      "**** 140 ****\n",
      "**** 145 ****\n",
      "**** 150 ****\n",
      "**** 155 ****\n",
      "**** 160 ****\n",
      "**** 165 ****\n",
      "**** 170 ****\n",
      "**** 175 ****\n",
      "**** 180 ****\n",
      "**** 185 ****\n",
      "**** 190 ****\n",
      "**** 195 ****\n",
      "**** 1100 ****\n",
      "**** 1105 ****\n",
      "**** 1110 ****\n",
      "**** 1115 ****\n",
      "**** 1120 ****\n",
      "**** 1125 ****\n",
      "**** 1130 ****\n",
      "**** 1135 ****\n",
      "**** 1140 ****\n",
      "**** 1145 ****\n",
      "**** 1150 ****\n",
      "**** 1155 ****\n",
      "**** 1160 ****\n",
      "**** 1165 ****\n",
      "**** 1170 ****\n",
      "**** 1175 ****\n",
      "**** 1180 ****\n",
      "**** 1185 ****\n",
      "**** 1190 ****\n",
      "**** 1195 ****\n",
      "**** 1200 ****\n",
      "**** 1205 ****\n",
      "**** 1210 ****\n",
      "**** 1215 ****\n",
      "**** 1220 ****\n",
      "**** 1225 ****\n",
      "**** 1230 ****\n",
      "**** 1235 ****\n",
      "**** 1240 ****\n",
      "**** 1245 ****\n",
      "**** 1250 ****\n",
      "**** 1255 ****\n",
      "**** 1260 ****\n",
      "**** 1265 ****\n",
      "**** 1270 ****\n",
      "**** 1275 ****\n",
      "**** 1280 ****\n",
      "**** 1285 ****\n",
      "**** 1290 ****\n",
      "**** 1295 ****\n",
      "**** 1300 ****\n",
      "**** 1305 ****\n"
     ]
    },
    {
     "name": "stderr",
     "output_type": "stream",
     "text": [
      "/anaconda2/lib/python2.7/site-packages/sklearn/cluster/k_means_.py:1418: RuntimeWarning: init_size=300 should be larger than k=305. Setting it to 3*k\n",
      "  init_size=init_size)\n"
     ]
    },
    {
     "name": "stdout",
     "output_type": "stream",
     "text": [
      "**** 1310 ****\n"
     ]
    },
    {
     "name": "stderr",
     "output_type": "stream",
     "text": [
      "/anaconda2/lib/python2.7/site-packages/sklearn/cluster/k_means_.py:1418: RuntimeWarning: init_size=300 should be larger than k=310. Setting it to 3*k\n",
      "  init_size=init_size)\n"
     ]
    },
    {
     "name": "stdout",
     "output_type": "stream",
     "text": [
      "**** 1315 ****\n"
     ]
    },
    {
     "name": "stderr",
     "output_type": "stream",
     "text": [
      "/anaconda2/lib/python2.7/site-packages/sklearn/cluster/k_means_.py:1418: RuntimeWarning: init_size=300 should be larger than k=315. Setting it to 3*k\n",
      "  init_size=init_size)\n"
     ]
    },
    {
     "name": "stdout",
     "output_type": "stream",
     "text": [
      "**** 1320 ****\n"
     ]
    },
    {
     "name": "stderr",
     "output_type": "stream",
     "text": [
      "/anaconda2/lib/python2.7/site-packages/sklearn/cluster/k_means_.py:1418: RuntimeWarning: init_size=300 should be larger than k=320. Setting it to 3*k\n",
      "  init_size=init_size)\n"
     ]
    },
    {
     "name": "stdout",
     "output_type": "stream",
     "text": [
      "**** 1325 ****\n"
     ]
    },
    {
     "name": "stderr",
     "output_type": "stream",
     "text": [
      "/anaconda2/lib/python2.7/site-packages/sklearn/cluster/k_means_.py:1418: RuntimeWarning: init_size=300 should be larger than k=325. Setting it to 3*k\n",
      "  init_size=init_size)\n"
     ]
    },
    {
     "name": "stdout",
     "output_type": "stream",
     "text": [
      "**** 1330 ****\n"
     ]
    },
    {
     "name": "stderr",
     "output_type": "stream",
     "text": [
      "/anaconda2/lib/python2.7/site-packages/sklearn/cluster/k_means_.py:1418: RuntimeWarning: init_size=300 should be larger than k=330. Setting it to 3*k\n",
      "  init_size=init_size)\n"
     ]
    },
    {
     "name": "stdout",
     "output_type": "stream",
     "text": [
      "**** 1335 ****\n"
     ]
    },
    {
     "name": "stderr",
     "output_type": "stream",
     "text": [
      "/anaconda2/lib/python2.7/site-packages/sklearn/cluster/k_means_.py:1418: RuntimeWarning: init_size=300 should be larger than k=335. Setting it to 3*k\n",
      "  init_size=init_size)\n"
     ]
    },
    {
     "name": "stdout",
     "output_type": "stream",
     "text": [
      "**** 1340 ****\n"
     ]
    },
    {
     "name": "stderr",
     "output_type": "stream",
     "text": [
      "/anaconda2/lib/python2.7/site-packages/sklearn/cluster/k_means_.py:1418: RuntimeWarning: init_size=300 should be larger than k=340. Setting it to 3*k\n",
      "  init_size=init_size)\n"
     ]
    },
    {
     "name": "stdout",
     "output_type": "stream",
     "text": [
      "**** 1345 ****\n"
     ]
    },
    {
     "name": "stderr",
     "output_type": "stream",
     "text": [
      "/anaconda2/lib/python2.7/site-packages/sklearn/cluster/k_means_.py:1418: RuntimeWarning: init_size=300 should be larger than k=345. Setting it to 3*k\n",
      "  init_size=init_size)\n"
     ]
    },
    {
     "name": "stdout",
     "output_type": "stream",
     "text": [
      "**** 1350 ****\n"
     ]
    },
    {
     "name": "stderr",
     "output_type": "stream",
     "text": [
      "/anaconda2/lib/python2.7/site-packages/sklearn/cluster/k_means_.py:1418: RuntimeWarning: init_size=300 should be larger than k=350. Setting it to 3*k\n",
      "  init_size=init_size)\n"
     ]
    },
    {
     "name": "stdout",
     "output_type": "stream",
     "text": [
      "**** 1355 ****\n"
     ]
    },
    {
     "name": "stderr",
     "output_type": "stream",
     "text": [
      "/anaconda2/lib/python2.7/site-packages/sklearn/cluster/k_means_.py:1418: RuntimeWarning: init_size=300 should be larger than k=355. Setting it to 3*k\n",
      "  init_size=init_size)\n"
     ]
    },
    {
     "name": "stdout",
     "output_type": "stream",
     "text": [
      "**** 1360 ****\n"
     ]
    },
    {
     "name": "stderr",
     "output_type": "stream",
     "text": [
      "/anaconda2/lib/python2.7/site-packages/sklearn/cluster/k_means_.py:1418: RuntimeWarning: init_size=300 should be larger than k=360. Setting it to 3*k\n",
      "  init_size=init_size)\n"
     ]
    },
    {
     "name": "stdout",
     "output_type": "stream",
     "text": [
      "**** 1365 ****\n"
     ]
    },
    {
     "name": "stderr",
     "output_type": "stream",
     "text": [
      "/anaconda2/lib/python2.7/site-packages/sklearn/cluster/k_means_.py:1418: RuntimeWarning: init_size=300 should be larger than k=365. Setting it to 3*k\n",
      "  init_size=init_size)\n"
     ]
    },
    {
     "name": "stdout",
     "output_type": "stream",
     "text": [
      "**** 1370 ****\n"
     ]
    },
    {
     "name": "stderr",
     "output_type": "stream",
     "text": [
      "/anaconda2/lib/python2.7/site-packages/sklearn/cluster/k_means_.py:1418: RuntimeWarning: init_size=300 should be larger than k=370. Setting it to 3*k\n",
      "  init_size=init_size)\n"
     ]
    },
    {
     "name": "stdout",
     "output_type": "stream",
     "text": [
      "**** 1375 ****\n"
     ]
    },
    {
     "name": "stderr",
     "output_type": "stream",
     "text": [
      "/anaconda2/lib/python2.7/site-packages/sklearn/cluster/k_means_.py:1418: RuntimeWarning: init_size=300 should be larger than k=375. Setting it to 3*k\n",
      "  init_size=init_size)\n"
     ]
    },
    {
     "name": "stdout",
     "output_type": "stream",
     "text": [
      "**** 1380 ****\n"
     ]
    },
    {
     "name": "stderr",
     "output_type": "stream",
     "text": [
      "/anaconda2/lib/python2.7/site-packages/sklearn/cluster/k_means_.py:1418: RuntimeWarning: init_size=300 should be larger than k=380. Setting it to 3*k\n",
      "  init_size=init_size)\n"
     ]
    },
    {
     "name": "stdout",
     "output_type": "stream",
     "text": [
      "**** 1385 ****\n"
     ]
    },
    {
     "name": "stderr",
     "output_type": "stream",
     "text": [
      "/anaconda2/lib/python2.7/site-packages/sklearn/cluster/k_means_.py:1418: RuntimeWarning: init_size=300 should be larger than k=385. Setting it to 3*k\n",
      "  init_size=init_size)\n"
     ]
    },
    {
     "name": "stdout",
     "output_type": "stream",
     "text": [
      "**** 1390 ****\n"
     ]
    },
    {
     "name": "stderr",
     "output_type": "stream",
     "text": [
      "/anaconda2/lib/python2.7/site-packages/sklearn/cluster/k_means_.py:1418: RuntimeWarning: init_size=300 should be larger than k=390. Setting it to 3*k\n",
      "  init_size=init_size)\n"
     ]
    },
    {
     "name": "stdout",
     "output_type": "stream",
     "text": [
      "**** 1395 ****\n"
     ]
    },
    {
     "name": "stderr",
     "output_type": "stream",
     "text": [
      "/anaconda2/lib/python2.7/site-packages/sklearn/cluster/k_means_.py:1418: RuntimeWarning: init_size=300 should be larger than k=395. Setting it to 3*k\n",
      "  init_size=init_size)\n"
     ]
    },
    {
     "name": "stdout",
     "output_type": "stream",
     "text": [
      "**** 1400 ****\n"
     ]
    },
    {
     "name": "stderr",
     "output_type": "stream",
     "text": [
      "/anaconda2/lib/python2.7/site-packages/sklearn/cluster/k_means_.py:1418: RuntimeWarning: init_size=300 should be larger than k=400. Setting it to 3*k\n",
      "  init_size=init_size)\n"
     ]
    }
   ],
   "source": [
    "from sklearn.cluster import KMeans, MiniBatchKMeans\n",
    "from sklearn.metrics import silhouette_score\n",
    "\n",
    "# choose best K (i.e., number of clusters)\n",
    "inertias = []\n",
    "silhouettes = []\n",
    "\n",
    "print(azdias.shape)\n",
    "\n",
    "inertias_mini = []\n",
    "silhouettes_mini = []\n",
    "ks = range(20,401,5)\n",
    "for k in ks:\n",
    "    print(\"**** {} ****\".format(k))\n",
    "    kmeans = MiniBatchKMeans(n_clusters=k, verbose=0)\n",
    "    kmeans.fit(azdias.values)\n",
    "    #print(\"**** 2 ****\")\n",
    "    inertias_mini.append(kmeans.inertia_)\n",
    "    #print(\"**** 3 ****\")\n",
    "    #silhouettes_mini.append(silhouette_score(azdias.values, kmeans.predict(azdias.values)))\n",
    "    #print(\"**** 4 ****\")"
   ]
  },
  {
   "cell_type": "code",
   "execution_count": 17,
   "metadata": {},
   "outputs": [
    {
     "data": {
      "text/plain": [
       "[<matplotlib.lines.Line2D at 0x1a216a3b50>]"
      ]
     },
     "execution_count": 17,
     "metadata": {},
     "output_type": "execute_result"
    },
    {
     "data": {
      "image/png": "[encoded data removed]",
      "text/plain": [
       "<Figure size 720x288 with 1 Axes>"
      ]
     },
     "metadata": {
      "needs_background": "light"
     },
     "output_type": "display_data"
    }
   ],
   "source": [
    "fig = plt.figure(figsize=(10,4))\n",
    "\n",
    "fig.add_subplot(1,2,1)\n",
    "plt.plot(ks,inertias_mini,marker='x')# want to use elbow method to find best k\n",
    "\n",
    "#fig.add_subplot(1,2,2)\n",
    "#plt.plot(ks,silhouettes_mini,marker='o')# the higher the better"
   ]
  },
  {
   "cell_type": "code",
   "execution_count": null,
   "metadata": {},
   "outputs": [],
   "source": [
    "#### The elbow is around 200 "
   ]
  },
  {
   "cell_type": "code",
   "execution_count": null,
   "metadata": {},
   "outputs": [],
   "source": [
    "\n"
   ]
  },
  {
   "cell_type": "markdown",
   "metadata": {},
   "source": [
    "## Part 2: Supervised Learning Model\n",
    "\n",
    "Now that you've found which parts of the population are more likely to be customers of the mail-order company, it's time to build a prediction model. Each of the rows in the \"MAILOUT\" data files represents an individual that was targeted for a mailout campaign. Ideally, we should be able to use the demographic information from each individual to decide whether or not it will be worth it to include that person in the campaign.\n",
    "\n",
    "The \"MAILOUT\" data has been split into two approximately equal parts, each with almost 43 000 data rows. In this part, you can verify your model with the \"TRAIN\" partition, which includes a column, \"RESPONSE\", that states whether or not a person became a customer of the company following the campaign. In the next part, you'll need to create predictions on the \"TEST\" partition, where the \"RESPONSE\" column has been withheld."
   ]
  },
  {
   "cell_type": "code",
   "execution_count": null,
   "metadata": {},
   "outputs": [],
   "source": [
    "mailout_train = pd.read_csv('Udacity_MAILOUT_052018_TRAIN.csv', sep=';')"
   ]
  },
  {
   "cell_type": "code",
   "execution_count": null,
   "metadata": {},
   "outputs": [],
   "source": []
  },
  {
   "cell_type": "markdown",
   "metadata": {},
   "source": [
    "## Part 3: Kaggle Competition\n",
    "\n",
    "Now that you've created a model to predict which individuals are most likely to respond to a mailout campaign, it's time to test that model in competition through Kaggle. If you click on the link [here](http://www.kaggle.com/t/21e6d45d4c574c7fa2d868f0e8c83140), you'll be taken to the competition page where, if you have a Kaggle account, you can enter. If you're one of the top performers, you may have the chance to be contacted by a hiring manager from Arvato or Bertelsmann for an interview!\n",
    "\n",
    "Your entry to the competition should be a CSV file with two columns. The first column should be a copy of \"LNR\", which acts as an ID number for each individual in the \"TEST\" partition. The second column, \"RESPONSE\", should be some measure of how likely each individual became a customer – this might not be a straightforward probability. As you should have found in Part 2, there is a large output class imbalance, where most individuals did not respond to the mailout. Thus, predicting individual classes and using accuracy does not seem to be an appropriate performance evaluation method. Instead, the competition will be using AUC to evaluate performance. The exact values of the \"RESPONSE\" column do not matter as much: only that the higher values try to capture as many of the actual customers as possible, early in the ROC curve sweep."
   ]
  },
  {
   "cell_type": "code",
   "execution_count": null,
   "metadata": {},
   "outputs": [],
   "source": [
    "mailout_test = pd.read_csv('Udacity_MAILOUT_052018_TEST.csv', sep=';')"
   ]
  },
  {
   "cell_type": "code",
   "execution_count": null,
   "metadata": {},
   "outputs": [],
   "source": []
  }
 ],
 "metadata": {
  "kernelspec": {
   "display_name": "Python 2",
   "language": "python",
   "name": "python2"
  },
  "language_info": {
   "codemirror_mode": {
    "name": "ipython",
    "version": 2
   },
   "file_extension": ".py",
   "mimetype": "text/x-python",
   "name": "python",
   "nbconvert_exporter": "python",
   "pygments_lexer": "ipython2",
   "version": "2.7.15"
  }
 },
 "nbformat": 4,
 "nbformat_minor": 2
}
